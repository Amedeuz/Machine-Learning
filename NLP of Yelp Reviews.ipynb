{
 "cells": [
  {
   "cell_type": "markdown",
   "metadata": {},
   "source": [
    "# Research Question\n",
    "\n",
    "### A1 - Research Question\n",
    "\n",
    "We have collected Yelp reviews with their corresponding ratings. Is it possible to use neural networks and natural language processing or NLP to predict future consumer sentiment with their reviews?\n",
    "\n",
    "### A2 - Objectives and Goals\n",
    "\n",
    "Using sentiment analysis, we will identify patterns or word combinations from previous Yelp reviews to better understand consumer sentiment. The goal is the accurately predict whether customers are satisfied based on their reviews. This will in turn help us understand our customers better and help other consumers when understand the establishment where the review was placed.\n",
    "\n",
    "### A3 - Neural Network Selection\n",
    "\n",
    "As stated by Nitin Hardeniya, \"Natural Language Processing is analogous to teaching language to a child.\" In this case, we will be teaching the computer to read and understand words and sequences by transforming though NLP techniques."
   ]
  },
  {
   "cell_type": "markdown",
   "metadata": {},
   "source": [
    "# Data Preparation\n",
    "\n",
    "### B1 - Exploratory Analysis"
   ]
  },
  {
   "cell_type": "code",
   "execution_count": 1,
   "metadata": {},
   "outputs": [],
   "source": [
    "import pandas as pd\n",
    "import numpy as np\n",
    "import matplotlib.pyplot as plt \n",
    "import warnings\n",
    "warnings.simplefilter(action='ignore', category=FutureWarning)"
   ]
  },
  {
   "cell_type": "code",
   "execution_count": 2,
   "metadata": {},
   "outputs": [],
   "source": [
    "from sklearn.model_selection import train_test_split\n",
    "from sklearn.metrics import mean_squared_error"
   ]
  },
  {
   "cell_type": "code",
   "execution_count": 3,
   "metadata": {},
   "outputs": [],
   "source": [
    "import tensorflow as tf\n",
    "from tensorflow import keras\n",
    "from tensorflow.keras import layers\n",
    "from tensorflow.keras.layers import Dense, Dropout\n",
    "from tensorflow.keras.models import Sequential\n",
    "\n",
    "from tensorflow.keras.preprocessing.text import Tokenizer\n",
    "from tensorflow.keras.preprocessing.sequence import pad_sequences\n",
    "\n",
    "from tensorflow.keras.callbacks import EarlyStopping\n",
    "from tensorflow.keras import regularizers\n"
   ]
  },
  {
   "cell_type": "code",
   "execution_count": 4,
   "metadata": {},
   "outputs": [],
   "source": [
    "#read the csv file\n",
    "data = pd.read_csv('yelp_labelled.txt',  sep='[:,;|_]!', engine='python', header=None)"
   ]
  },
  {
   "cell_type": "code",
   "execution_count": 5,
   "metadata": {},
   "outputs": [
    {
     "data": {
      "text/html": [
       "<div>\n",
       "<style scoped>\n",
       "    .dataframe tbody tr th:only-of-type {\n",
       "        vertical-align: middle;\n",
       "    }\n",
       "\n",
       "    .dataframe tbody tr th {\n",
       "        vertical-align: top;\n",
       "    }\n",
       "\n",
       "    .dataframe thead th {\n",
       "        text-align: right;\n",
       "    }\n",
       "</style>\n",
       "<table border=\"1\" class=\"dataframe\">\n",
       "  <thead>\n",
       "    <tr style=\"text-align: right;\">\n",
       "      <th></th>\n",
       "      <th>0</th>\n",
       "    </tr>\n",
       "  </thead>\n",
       "  <tbody>\n",
       "    <tr>\n",
       "      <th>0</th>\n",
       "      <td>Wow... Loved this place.\\t1</td>\n",
       "    </tr>\n",
       "    <tr>\n",
       "      <th>1</th>\n",
       "      <td>Crust is not good.\\t0</td>\n",
       "    </tr>\n",
       "    <tr>\n",
       "      <th>2</th>\n",
       "      <td>Not tasty and the texture was just nasty.\\t0</td>\n",
       "    </tr>\n",
       "    <tr>\n",
       "      <th>3</th>\n",
       "      <td>Stopped by during the late May bank holiday off Rick Steve recommendation and loved it.\\t1</td>\n",
       "    </tr>\n",
       "    <tr>\n",
       "      <th>4</th>\n",
       "      <td>The selection on the menu was great and so were the prices.\\t1</td>\n",
       "    </tr>\n",
       "    <tr>\n",
       "      <th>5</th>\n",
       "      <td>Now I am getting angry and I want my damn pho.\\t0</td>\n",
       "    </tr>\n",
       "    <tr>\n",
       "      <th>6</th>\n",
       "      <td>Honeslty it didn't taste THAT fresh.)\\t0</td>\n",
       "    </tr>\n",
       "    <tr>\n",
       "      <th>7</th>\n",
       "      <td>The potatoes were like rubber and you could tell they had been made up ahead of time being kept under a warmer.\\t0</td>\n",
       "    </tr>\n",
       "    <tr>\n",
       "      <th>8</th>\n",
       "      <td>The fries were great too.\\t1</td>\n",
       "    </tr>\n",
       "    <tr>\n",
       "      <th>9</th>\n",
       "      <td>A great touch.\\t1</td>\n",
       "    </tr>\n",
       "  </tbody>\n",
       "</table>\n",
       "</div>"
      ],
      "text/plain": [
       "                                                                                                                    0\n",
       "0                                                                                         Wow... Loved this place.\\t1\n",
       "1                                                                                               Crust is not good.\\t0\n",
       "2                                                                        Not tasty and the texture was just nasty.\\t0\n",
       "3                          Stopped by during the late May bank holiday off Rick Steve recommendation and loved it.\\t1\n",
       "4                                                      The selection on the menu was great and so were the prices.\\t1\n",
       "5                                                                   Now I am getting angry and I want my damn pho.\\t0\n",
       "6                                                                            Honeslty it didn't taste THAT fresh.)\\t0\n",
       "7  The potatoes were like rubber and you could tell they had been made up ahead of time being kept under a warmer.\\t0\n",
       "8                                                                                        The fries were great too.\\t1\n",
       "9                                                                                                   A great touch.\\t1"
      ]
     },
     "execution_count": 5,
     "metadata": {},
     "output_type": "execute_result"
    }
   ],
   "source": [
    "#display first 10 rows\n",
    "pd.set_option('display.max_colwidth', 5000)\n",
    "data.head(10)"
   ]
  },
  {
   "cell_type": "code",
   "execution_count": 6,
   "metadata": {},
   "outputs": [
    {
     "data": {
      "text/html": [
       "<div>\n",
       "<style scoped>\n",
       "    .dataframe tbody tr th:only-of-type {\n",
       "        vertical-align: middle;\n",
       "    }\n",
       "\n",
       "    .dataframe tbody tr th {\n",
       "        vertical-align: top;\n",
       "    }\n",
       "\n",
       "    .dataframe thead th {\n",
       "        text-align: right;\n",
       "    }\n",
       "</style>\n",
       "<table border=\"1\" class=\"dataframe\">\n",
       "  <thead>\n",
       "    <tr style=\"text-align: right;\">\n",
       "      <th></th>\n",
       "      <th>Review</th>\n",
       "    </tr>\n",
       "  </thead>\n",
       "  <tbody>\n",
       "    <tr>\n",
       "      <th>0</th>\n",
       "      <td>Wow... Loved this place.\\t1</td>\n",
       "    </tr>\n",
       "    <tr>\n",
       "      <th>1</th>\n",
       "      <td>Crust is not good.\\t0</td>\n",
       "    </tr>\n",
       "    <tr>\n",
       "      <th>2</th>\n",
       "      <td>Not tasty and the texture was just nasty.\\t0</td>\n",
       "    </tr>\n",
       "    <tr>\n",
       "      <th>3</th>\n",
       "      <td>Stopped by during the late May bank holiday off Rick Steve recommendation and loved it.\\t1</td>\n",
       "    </tr>\n",
       "    <tr>\n",
       "      <th>4</th>\n",
       "      <td>The selection on the menu was great and so were the prices.\\t1</td>\n",
       "    </tr>\n",
       "    <tr>\n",
       "      <th>5</th>\n",
       "      <td>Now I am getting angry and I want my damn pho.\\t0</td>\n",
       "    </tr>\n",
       "    <tr>\n",
       "      <th>6</th>\n",
       "      <td>Honeslty it didn't taste THAT fresh.)\\t0</td>\n",
       "    </tr>\n",
       "    <tr>\n",
       "      <th>7</th>\n",
       "      <td>The potatoes were like rubber and you could tell they had been made up ahead of time being kept under a warmer.\\t0</td>\n",
       "    </tr>\n",
       "    <tr>\n",
       "      <th>8</th>\n",
       "      <td>The fries were great too.\\t1</td>\n",
       "    </tr>\n",
       "    <tr>\n",
       "      <th>9</th>\n",
       "      <td>A great touch.\\t1</td>\n",
       "    </tr>\n",
       "  </tbody>\n",
       "</table>\n",
       "</div>"
      ],
      "text/plain": [
       "                                                                                                               Review\n",
       "0                                                                                         Wow... Loved this place.\\t1\n",
       "1                                                                                               Crust is not good.\\t0\n",
       "2                                                                        Not tasty and the texture was just nasty.\\t0\n",
       "3                          Stopped by during the late May bank holiday off Rick Steve recommendation and loved it.\\t1\n",
       "4                                                      The selection on the menu was great and so were the prices.\\t1\n",
       "5                                                                   Now I am getting angry and I want my damn pho.\\t0\n",
       "6                                                                            Honeslty it didn't taste THAT fresh.)\\t0\n",
       "7  The potatoes were like rubber and you could tell they had been made up ahead of time being kept under a warmer.\\t0\n",
       "8                                                                                        The fries were great too.\\t1\n",
       "9                                                                                                   A great touch.\\t1"
      ]
     },
     "execution_count": 6,
     "metadata": {},
     "output_type": "execute_result"
    }
   ],
   "source": [
    "#add column name Review\n",
    "data.columns=['Review']\n",
    "data.head(10)"
   ]
  },
  {
   "cell_type": "code",
   "execution_count": 7,
   "metadata": {},
   "outputs": [
    {
     "data": {
      "text/html": [
       "<div>\n",
       "<style scoped>\n",
       "    .dataframe tbody tr th:only-of-type {\n",
       "        vertical-align: middle;\n",
       "    }\n",
       "\n",
       "    .dataframe tbody tr th {\n",
       "        vertical-align: top;\n",
       "    }\n",
       "\n",
       "    .dataframe thead th {\n",
       "        text-align: right;\n",
       "    }\n",
       "</style>\n",
       "<table border=\"1\" class=\"dataframe\">\n",
       "  <thead>\n",
       "    <tr style=\"text-align: right;\">\n",
       "      <th></th>\n",
       "      <th>Review</th>\n",
       "      <th>Rating</th>\n",
       "    </tr>\n",
       "  </thead>\n",
       "  <tbody>\n",
       "    <tr>\n",
       "      <th>0</th>\n",
       "      <td>Wow... Loved this place.\\t1</td>\n",
       "      <td>1</td>\n",
       "    </tr>\n",
       "    <tr>\n",
       "      <th>1</th>\n",
       "      <td>Crust is not good.\\t0</td>\n",
       "      <td>0</td>\n",
       "    </tr>\n",
       "    <tr>\n",
       "      <th>2</th>\n",
       "      <td>Not tasty and the texture was just nasty.\\t0</td>\n",
       "      <td>0</td>\n",
       "    </tr>\n",
       "    <tr>\n",
       "      <th>3</th>\n",
       "      <td>Stopped by during the late May bank holiday off Rick Steve recommendation and loved it.\\t1</td>\n",
       "      <td>1</td>\n",
       "    </tr>\n",
       "    <tr>\n",
       "      <th>4</th>\n",
       "      <td>The selection on the menu was great and so were the prices.\\t1</td>\n",
       "      <td>1</td>\n",
       "    </tr>\n",
       "    <tr>\n",
       "      <th>5</th>\n",
       "      <td>Now I am getting angry and I want my damn pho.\\t0</td>\n",
       "      <td>0</td>\n",
       "    </tr>\n",
       "    <tr>\n",
       "      <th>6</th>\n",
       "      <td>Honeslty it didn't taste THAT fresh.)\\t0</td>\n",
       "      <td>0</td>\n",
       "    </tr>\n",
       "    <tr>\n",
       "      <th>7</th>\n",
       "      <td>The potatoes were like rubber and you could tell they had been made up ahead of time being kept under a warmer.\\t0</td>\n",
       "      <td>0</td>\n",
       "    </tr>\n",
       "    <tr>\n",
       "      <th>8</th>\n",
       "      <td>The fries were great too.\\t1</td>\n",
       "      <td>1</td>\n",
       "    </tr>\n",
       "    <tr>\n",
       "      <th>9</th>\n",
       "      <td>A great touch.\\t1</td>\n",
       "      <td>1</td>\n",
       "    </tr>\n",
       "  </tbody>\n",
       "</table>\n",
       "</div>"
      ],
      "text/plain": [
       "                                                                                                               Review  \\\n",
       "0                                                                                         Wow... Loved this place.\\t1   \n",
       "1                                                                                               Crust is not good.\\t0   \n",
       "2                                                                        Not tasty and the texture was just nasty.\\t0   \n",
       "3                          Stopped by during the late May bank holiday off Rick Steve recommendation and loved it.\\t1   \n",
       "4                                                      The selection on the menu was great and so were the prices.\\t1   \n",
       "5                                                                   Now I am getting angry and I want my damn pho.\\t0   \n",
       "6                                                                            Honeslty it didn't taste THAT fresh.)\\t0   \n",
       "7  The potatoes were like rubber and you could tell they had been made up ahead of time being kept under a warmer.\\t0   \n",
       "8                                                                                        The fries were great too.\\t1   \n",
       "9                                                                                                   A great touch.\\t1   \n",
       "\n",
       "  Rating  \n",
       "0      1  \n",
       "1      0  \n",
       "2      0  \n",
       "3      1  \n",
       "4      1  \n",
       "5      0  \n",
       "6      0  \n",
       "7      0  \n",
       "8      1  \n",
       "9      1  "
      ]
     },
     "execution_count": 7,
     "metadata": {},
     "output_type": "execute_result"
    }
   ],
   "source": [
    "#create Rating and extract rating from last character in the string of each row in the Review column\n",
    "data['Rating'] = data['Review'].str[-1:]\n",
    "data.head(10)"
   ]
  },
  {
   "cell_type": "code",
   "execution_count": 8,
   "metadata": {},
   "outputs": [
    {
     "data": {
      "text/html": [
       "<div>\n",
       "<style scoped>\n",
       "    .dataframe tbody tr th:only-of-type {\n",
       "        vertical-align: middle;\n",
       "    }\n",
       "\n",
       "    .dataframe tbody tr th {\n",
       "        vertical-align: top;\n",
       "    }\n",
       "\n",
       "    .dataframe thead th {\n",
       "        text-align: right;\n",
       "    }\n",
       "</style>\n",
       "<table border=\"1\" class=\"dataframe\">\n",
       "  <thead>\n",
       "    <tr style=\"text-align: right;\">\n",
       "      <th></th>\n",
       "      <th>Review</th>\n",
       "      <th>Rating</th>\n",
       "    </tr>\n",
       "  </thead>\n",
       "  <tbody>\n",
       "    <tr>\n",
       "      <th>0</th>\n",
       "      <td>Wow... Loved this place</td>\n",
       "      <td>1</td>\n",
       "    </tr>\n",
       "    <tr>\n",
       "      <th>1</th>\n",
       "      <td>Crust is not good</td>\n",
       "      <td>0</td>\n",
       "    </tr>\n",
       "    <tr>\n",
       "      <th>2</th>\n",
       "      <td>Not tasty and the texture was just nasty</td>\n",
       "      <td>0</td>\n",
       "    </tr>\n",
       "    <tr>\n",
       "      <th>3</th>\n",
       "      <td>Stopped by during the late May bank holiday off Rick Steve recommendation and loved it</td>\n",
       "      <td>1</td>\n",
       "    </tr>\n",
       "    <tr>\n",
       "      <th>4</th>\n",
       "      <td>The selection on the menu was great and so were the prices</td>\n",
       "      <td>1</td>\n",
       "    </tr>\n",
       "    <tr>\n",
       "      <th>5</th>\n",
       "      <td>Now I am getting angry and I want my damn pho</td>\n",
       "      <td>0</td>\n",
       "    </tr>\n",
       "    <tr>\n",
       "      <th>6</th>\n",
       "      <td>Honeslty it didn't taste THAT fresh.</td>\n",
       "      <td>0</td>\n",
       "    </tr>\n",
       "    <tr>\n",
       "      <th>7</th>\n",
       "      <td>The potatoes were like rubber and you could tell they had been made up ahead of time being kept under a warmer</td>\n",
       "      <td>0</td>\n",
       "    </tr>\n",
       "    <tr>\n",
       "      <th>8</th>\n",
       "      <td>The fries were great too</td>\n",
       "      <td>1</td>\n",
       "    </tr>\n",
       "    <tr>\n",
       "      <th>9</th>\n",
       "      <td>A great touch</td>\n",
       "      <td>1</td>\n",
       "    </tr>\n",
       "  </tbody>\n",
       "</table>\n",
       "</div>"
      ],
      "text/plain": [
       "                                                                                                           Review  \\\n",
       "0                                                                                         Wow... Loved this place   \n",
       "1                                                                                               Crust is not good   \n",
       "2                                                                        Not tasty and the texture was just nasty   \n",
       "3                          Stopped by during the late May bank holiday off Rick Steve recommendation and loved it   \n",
       "4                                                      The selection on the menu was great and so were the prices   \n",
       "5                                                                   Now I am getting angry and I want my damn pho   \n",
       "6                                                                            Honeslty it didn't taste THAT fresh.   \n",
       "7  The potatoes were like rubber and you could tell they had been made up ahead of time being kept under a warmer   \n",
       "8                                                                                        The fries were great too   \n",
       "9                                                                                                   A great touch   \n",
       "\n",
       "  Rating  \n",
       "0      1  \n",
       "1      0  \n",
       "2      0  \n",
       "3      1  \n",
       "4      1  \n",
       "5      0  \n",
       "6      0  \n",
       "7      0  \n",
       "8      1  \n",
       "9      1  "
      ]
     },
     "execution_count": 8,
     "metadata": {},
     "output_type": "execute_result"
    }
   ],
   "source": [
    "#remove the last 3 characters in the string of each row in the Review column\n",
    "data['Review'] = data['Review'].str[:-3]\n",
    "data.head(10)"
   ]
  },
  {
   "cell_type": "code",
   "execution_count": 9,
   "metadata": {},
   "outputs": [
    {
     "data": {
      "text/plain": [
       "<function matplotlib.pyplot.show(*args, **kw)>"
      ]
     },
     "execution_count": 9,
     "metadata": {},
     "output_type": "execute_result"
    },
    {
     "data": {
      "image/png": "[encoded data removed]",
      "text/plain": [
       "<Figure size 432x288 with 1 Axes>"
      ]
     },
     "metadata": {
      "needs_background": "light"
     },
     "output_type": "display_data"
    }
   ],
   "source": [
    "#display all ratings as a bivariate graph\n",
    "ax = data.groupby('Rating').count().plot.bar(ylim=0)\n",
    "ax.set_title('Review by Rating')\n",
    "plt.xticks(rotation=0)\n",
    "plt.show"
   ]
  },
  {
   "cell_type": "code",
   "execution_count": 10,
   "metadata": {},
   "outputs": [
    {
     "data": {
      "text/html": [
       "<div>\n",
       "<style scoped>\n",
       "    .dataframe tbody tr th:only-of-type {\n",
       "        vertical-align: middle;\n",
       "    }\n",
       "\n",
       "    .dataframe tbody tr th {\n",
       "        vertical-align: top;\n",
       "    }\n",
       "\n",
       "    .dataframe thead th {\n",
       "        text-align: right;\n",
       "    }\n",
       "</style>\n",
       "<table border=\"1\" class=\"dataframe\">\n",
       "  <thead>\n",
       "    <tr style=\"text-align: right;\">\n",
       "      <th></th>\n",
       "      <th>Review</th>\n",
       "      <th>Rating</th>\n",
       "    </tr>\n",
       "  </thead>\n",
       "  <tbody>\n",
       "    <tr>\n",
       "      <th>0</th>\n",
       "      <td>wow... loved this place</td>\n",
       "      <td>1</td>\n",
       "    </tr>\n",
       "    <tr>\n",
       "      <th>1</th>\n",
       "      <td>crust is not good</td>\n",
       "      <td>0</td>\n",
       "    </tr>\n",
       "    <tr>\n",
       "      <th>2</th>\n",
       "      <td>not tasty and the texture was just nasty</td>\n",
       "      <td>0</td>\n",
       "    </tr>\n",
       "    <tr>\n",
       "      <th>3</th>\n",
       "      <td>stopped by during the late may bank holiday off rick steve recommendation and loved it</td>\n",
       "      <td>1</td>\n",
       "    </tr>\n",
       "    <tr>\n",
       "      <th>4</th>\n",
       "      <td>the selection on the menu was great and so were the prices</td>\n",
       "      <td>1</td>\n",
       "    </tr>\n",
       "    <tr>\n",
       "      <th>5</th>\n",
       "      <td>now i am getting angry and i want my damn pho</td>\n",
       "      <td>0</td>\n",
       "    </tr>\n",
       "    <tr>\n",
       "      <th>6</th>\n",
       "      <td>honeslty it didn't taste that fresh.</td>\n",
       "      <td>0</td>\n",
       "    </tr>\n",
       "    <tr>\n",
       "      <th>7</th>\n",
       "      <td>the potatoes were like rubber and you could tell they had been made up ahead of time being kept under a warmer</td>\n",
       "      <td>0</td>\n",
       "    </tr>\n",
       "    <tr>\n",
       "      <th>8</th>\n",
       "      <td>the fries were great too</td>\n",
       "      <td>1</td>\n",
       "    </tr>\n",
       "    <tr>\n",
       "      <th>9</th>\n",
       "      <td>a great touch</td>\n",
       "      <td>1</td>\n",
       "    </tr>\n",
       "  </tbody>\n",
       "</table>\n",
       "</div>"
      ],
      "text/plain": [
       "                                                                                                           Review  \\\n",
       "0                                                                                         wow... loved this place   \n",
       "1                                                                                               crust is not good   \n",
       "2                                                                        not tasty and the texture was just nasty   \n",
       "3                          stopped by during the late may bank holiday off rick steve recommendation and loved it   \n",
       "4                                                      the selection on the menu was great and so were the prices   \n",
       "5                                                                   now i am getting angry and i want my damn pho   \n",
       "6                                                                            honeslty it didn't taste that fresh.   \n",
       "7  the potatoes were like rubber and you could tell they had been made up ahead of time being kept under a warmer   \n",
       "8                                                                                        the fries were great too   \n",
       "9                                                                                                   a great touch   \n",
       "\n",
       "  Rating  \n",
       "0      1  \n",
       "1      0  \n",
       "2      0  \n",
       "3      1  \n",
       "4      1  \n",
       "5      0  \n",
       "6      0  \n",
       "7      0  \n",
       "8      1  \n",
       "9      1  "
      ]
     },
     "execution_count": 10,
     "metadata": {},
     "output_type": "execute_result"
    }
   ],
   "source": [
    "#lower case all characters in the Review column\n",
    "data['Review'] = data['Review'].str.lower()\n",
    "data.head(10)"
   ]
  },
  {
   "cell_type": "markdown",
   "metadata": {},
   "source": [
    "#### B1a - Presence of unusual or special characters"
   ]
  },
  {
   "cell_type": "code",
   "execution_count": 11,
   "metadata": {},
   "outputs": [
    {
     "name": "stdout",
     "output_type": "stream",
     "text": [
      "['w', 'o', '.', ' ', 'l', 'v', 'e', 'd', 't', 'h', 'i', 's', 'p', 'a', 'c', 'r', 'u', 'n', 'g', 'y', 'x', 'j', 'b', 'm', 'k', 'f', \"'\", ',', 'z', '-', '4', '2', '3', 'q', '!', '5', '1', '0', '&', 'ã', '©', ':', ';', '9', '7', '(', ')', '\"', '/', '8', '$', '%', '+', '*', '?', '6', 'ª']\n"
     ]
    }
   ],
   "source": [
    "#list all characters used in the string\n",
    "letters = data['Review']\n",
    "list_of_characters = []\n",
    "for letter in letters:\n",
    "    for character in letter:\n",
    "        if character not in list_of_characters:\n",
    "            list_of_characters.append(character)\n",
    "print(list_of_characters)"
   ]
  },
  {
   "cell_type": "code",
   "execution_count": 12,
   "metadata": {},
   "outputs": [],
   "source": [
    "#remove all special characters\n",
    "junk_char = ['.', ',',\"'\",'-','!','&','ã','©',':', ';','(', ')', '\"', '/','$', '%', '+', '*', '?','ª']\n",
    "for char in junk_char:\n",
    "    data['Review'] = data['Review'].str.replace(char, ' ')"
   ]
  },
  {
   "cell_type": "code",
   "execution_count": 13,
   "metadata": {},
   "outputs": [
    {
     "name": "stdout",
     "output_type": "stream",
     "text": [
      "['w', 'o', ' ', 'l', 'v', 'e', 'd', 't', 'h', 'i', 's', 'p', 'a', 'c', 'r', 'u', 'n', 'g', 'y', 'x', 'j', 'b', 'm', 'k', 'f', 'z', '4', '2', '3', 'q', '5', '1', '0', '9', '7', '8', '6']\n"
     ]
    }
   ],
   "source": [
    "#check for any special characters again\n",
    "letters_verify = data['Review']\n",
    "list_of_characters_verify = []\n",
    "for letter in letters_verify:\n",
    "    for character in letter:\n",
    "        if character not in list_of_characters_verify:\n",
    "            list_of_characters_verify.append(character)\n",
    "print(list_of_characters_verify)"
   ]
  },
  {
   "cell_type": "markdown",
   "metadata": {},
   "source": [
    "#### B1b - Vocabulary Size"
   ]
  },
  {
   "cell_type": "code",
   "execution_count": 14,
   "metadata": {},
   "outputs": [
    {
     "name": "stdout",
     "output_type": "stream",
     "text": [
      "Vocabulary Size:  2058\n"
     ]
    }
   ],
   "source": [
    "#vocabulary size\n",
    "tokenizer = Tokenizer()\n",
    "tokenizer.fit_on_texts(data['Review'])\n",
    "print('Vocabulary Size: ', len(tokenizer.word_index) + 1)"
   ]
  },
  {
   "cell_type": "markdown",
   "metadata": {},
   "source": [
    "#### B1c - Word Embedding"
   ]
  },
  {
   "cell_type": "code",
   "execution_count": 15,
   "metadata": {},
   "outputs": [
    {
     "name": "stdout",
     "output_type": "stream",
     "text": [
      "The maximum length of a sentence is:  35\n",
      "The minimum length of a sentence is:  2\n",
      "The median length of a sentence is:  10.5\n"
     ]
    }
   ],
   "source": [
    "#word embedding lengths\n",
    "sentence = []\n",
    "for char in data['Review']:\n",
    "    sentence.append(len(char.split(' ')))\n",
    "print('The maximum length of a sentence is: ', np.max(sentence))\n",
    "print('The minimum length of a sentence is: ', np.min(sentence))\n",
    "print('The median length of a sentence is: ', np.median(sentence))"
   ]
  },
  {
   "cell_type": "markdown",
   "metadata": {},
   "source": [
    "#### B1d - Statistical justification for the chosen maximum sequence length\n",
    "\n",
    "We will be padding all of our reviews to match the the sentence with the most words. All of our sentences will padded at the end of the sequence."
   ]
  },
  {
   "cell_type": "markdown",
   "metadata": {},
   "source": [
    "### B2 - Tokenization\n",
    "\n",
    "The tokenization process is a way to index all unique words and save them as a dictionary. Each word will be attached to an index that will be used to train our model."
   ]
  },
  {
   "cell_type": "code",
   "execution_count": 16,
   "metadata": {},
   "outputs": [
    {
     "name": "stdout",
     "output_type": "stream",
     "text": [
      "{'the': 1, 'and': 2, 'i': 3, 'was': 4, 'a': 5, 'to': 6, 'is': 7, 'it': 8, 'this': 9, 'of': 10, 'food': 11, 'not': 12, 'for': 13, 'in': 14, 'place': 15, 't': 16, 'good': 17, 'we': 18, 'service': 19, 'very': 20, 'my': 21, 'with': 22, 'great': 23, 'had': 24, 'that': 25, 'be': 26, 'so': 27, 'you': 28, 'were': 29, 'are': 30, 'but': 31, 'have': 32, 'back': 33, 'they': 34, 'here': 35, 'on': 36, 'at': 37, 'like': 38, 'go': 39, 'all': 40, 'time': 41, 's': 42, 'our': 43, 'will': 44, 'there': 45, 'as': 46, 'really': 47, 'just': 48, 'an': 49, 'their': 50, 'if': 51, 'best': 52, 'would': 53, 'ever': 54, 'also': 55, 'friendly': 56, 'up': 57, 'only': 58, 'never': 59, 'one': 60, 'don': 61, 'no': 62, 'your': 63, 'restaurant': 64, 'out': 65, 'nice': 66, 'been': 67, 'what': 68, 'can': 69, 'from': 70, 'amazing': 71, 'again': 72, 'delicious': 73, 've': 74, 'vegas': 75, 'did': 76, 'by': 77, 'which': 78, 'm': 79, 'pretty': 80, 'some': 81, 'me': 82, 'came': 83, 'when': 84, 'experience': 85, 'staff': 86, 'get': 87, 'he': 88, 'eat': 89, 'us': 90, 'minutes': 91, 'definitely': 92, 'love': 93, 'even': 94, 'or': 95, 'disappointed': 96, 'won': 97, 'bad': 98, 'much': 99, 'got': 100, 'going': 101, 'made': 102, 'chicken': 103, 'first': 104, 'more': 105, 'about': 106, 'could': 107, 'say': 108, 'think': 109, 'menu': 110, 'too': 111, 'salad': 112, 'has': 113, 'worst': 114, 'stars': 115, 'always': 116, 'way': 117, 'than': 118, 'well': 119, 'better': 120, 'how': 121, 'pizza': 122, 'fresh': 123, 'being': 124, 'because': 125, 'quality': 126, 'ordered': 127, 'wait': 128, 'other': 129, 'steak': 130, 'them': 131, 'want': 132, 'didn': 133, 'taste': 134, 'server': 135, 'went': 136, 'times': 137, 'll': 138, 'sushi': 139, 'wasn': 140, 'flavor': 141, 'now': 142, 'burger': 143, 'do': 144, 'enough': 145, 'any': 146, 'after': 147, 'over': 148, 'everything': 149, 'fantastic': 150, 'night': 151, 'awesome': 152, 'tasty': 153, 'still': 154, 'slow': 155, 'feel': 156, 'buffet': 157, 'bland': 158, 'meal': 159, 'next': 160, 'atmosphere': 161, 'know': 162, 'come': 163, 'order': 164, 'recommend': 165, 'loved': 166, 'selection': 167, 'prices': 168, 'little': 169, 'worth': 170, 'down': 171, 'sauce': 172, 'lunch': 173, 'coming': 174, 'breakfast': 175, 'another': 176, 'excellent': 177, 'waited': 178, 'probably': 179, 'terrible': 180, 'perfect': 181, 'off': 182, 'fries': 183, 'right': 184, 'every': 185, 'table': 186, 'people': 187, 'sandwich': 188, 'before': 189, 'd': 190, 'give': 191, '2': 192, 'meat': 193, 'dishes': 194, 'many': 195, 'clean': 196, 'day': 197, 'she': 198, 'hot': 199, 'soon': 200, 'cold': 201, 'then': 202, 'getting': 203, 'sure': 204, 'waitress': 205, 'took': 206, 'around': 207, 'beer': 208, 'overall': 209, 'thing': 210, 'absolutely': 211, '5': 212, 'dish': 213, 'quite': 214, 'eating': 215, 'both': 216, 'try': 217, 'dining': 218, 'spicy': 219, 'bit': 220, 'who': 221, 'said': 222, 'spot': 223, 'rude': 224, 'since': 225, 'impressed': 226, 'while': 227, 'take': 228, 'felt': 229, 'make': 230, 'few': 231, 'two': 232, 'happy': 233, 'tasted': 234, 'overpriced': 235, 'tried': 236, 'warm': 237, 'deal': 238, 'found': 239, 'lot': 240, 'waiter': 241, 'attentive': 242, 'cooked': 243, 'side': 244, 'inside': 245, 'wonderful': 246, 'nothing': 247, 'town': 248, 'price': 249, 'check': 250, 'ambiance': 251, 'seriously': 252, 'must': 253, 'area': 254, 'once': 255, 'chips': 256, 'special': 257, 'far': 258, 'family': 259, 'bar': 260, 'super': 261, 'am': 262, 'pho': 263, 'tell': 264, 'hour': 265, 'poor': 266, 'shrimp': 267, 'tender': 268, 'hard': 269, 'left': 270, 'his': 271, 'horrible': 272, 'each': 273, 'enjoy': 274, 'should': 275, 'customer': 276, 'potato': 277, 'where': 278, 're': 279, 'served': 280, 'mediocre': 281, 'management': 282, 'done': 283, 'last': 284, 'her': 285, 'small': 286, 'see': 287, 'either': 288, 'money': 289, 'twice': 290, '1': 291, 'authentic': 292, 'dinner': 293, 'during': 294, 'may': 295, 'kept': 296, 'asked': 297, 'tables': 298, 'quick': 299, 'portions': 300, 'these': 301, 'sick': 302, 'dessert': 303, 'beef': 304, 'outside': 305, 'talk': 306, 'huge': 307, 'servers': 308, 'seafood': 309, 'pasta': 310, 'tasteless': 311, '10': 312, 'fish': 313, '30': 314, 'sweet': 315, 'old': 316, 'disappointing': 317, 'real': 318, 'thai': 319, 'eaten': 320, 'places': 321, 'thought': 322, 'away': 323, 'hit': 324, 'waste': 325, 'return': 326, 'extremely': 327, '3': 328, 'seated': 329, 'avoid': 330, 'full': 331, 'bacon': 332, 'zero': 333, 'sat': 334, 'ice': 335, 'bread': 336, 'home': 337, 'things': 338, 'waiting': 339, 'friend': 340, 'fast': 341, 'wrong': 342, 'fried': 343, 'expect': 344, 'reasonable': 345, 'enjoyed': 346, 'anytime': 347, 'new': 348, 'bring': 349, 'long': 350, 'barely': 351, 'damn': 352, 'highly': 353, 'tacos': 354, '4': 355, 'running': 356, 'salmon': 357, 'look': 358, 'elsewhere': 359, 'visit': 360, 'establishment': 361, 'rare': 362, 'husband': 363, 'heart': 364, 'least': 365, 'drinks': 366, 'rice': 367, 'today': 368, 'ask': 369, 'everyone': 370, 'yummy': 371, 'helpful': 372, 'beat': 373, 'wine': 374, 'trip': 375, 'kind': 376, 'steaks': 377, 'leave': 378, 'pork': 379, 'burgers': 380, 'cream': 381, 'fact': 382, 'drink': 383, 'itself': 384, 'considering': 385, 'thumbs': 386, 'pay': 387, 'bay': 388, 'piece': 389, 'unfortunately': 390, 'phoenix': 391, 'sad': 392, '20': 393, 'something': 394, 'incredible': 395, 'sucked': 396, 'wings': 397, 'live': 398, 'drive': 399, 'though': 400, 'business': 401, 'someone': 402, 'folks': 403, 'fun': 404, 'chef': 405, 'possible': 406, 'close': 407, 'owner': 408, 'job': 409, 'tea': 410, 'why': 411, 'location': 412, 'gave': 413, 'high': 414, 'house': 415, 'friends': 416, 'dirty': 417, 'vegetables': 418, 'large': 419, 'soup': 420, 'options': 421, 'disappointment': 422, 'needs': 423, 'owners': 424, '40': 425, 'manager': 426, 'thin': 427, 'dry': 428, 'average': 429, 'wow': 430, 'texture': 431, 'nasty': 432, 'recommendation': 433, 'potatoes': 434, 'under': 435, 'care': 436, 'recommended': 437, 'let': 438, 'beautiful': 439, 'brought': 440, 'wall': 441, 'totally': 442, 'sashimi': 443, 'yourself': 444, 'sucks': 445, 'moist': 446, 'sides': 447, 'frozen': 448, 'greek': 449, 'dressing': 450, 'pita': 451, 'hummus': 452, 'duck': 453, 'flat': 454, 'amount': 455, 'perfectly': 456, 'water': 457, 'second': 458, 'salt': 459, 'chewy': 460, 'expected': 461, 'guess': 462, 'walked': 463, 'rolls': 464, 'oh': 465, 'party': 466, 'mouth': 467, 'tip': 468, 'arrived': 469, 'quickly': 470, 'cafe': 471, 'wife': 472, 'ambience': 473, 'music': 474, 'honest': 475, 'busy': 476, 'although': 477, 'liked': 478, 'fine': 479, 'wouldn': 480, 'strip': 481, 'delish': 482, 'melt': 483, 'cheese': 484, 'subway': 485, 'restaurants': 486, 'empty': 487, 'checked': 488, 'ate': 489, 'watched': 490, 'stale': 491, 'different': 492, 'several': 493, 'years': 494, 'ago': 495, 'immediately': 496, 'priced': 497, 'hands': 498, 'treated': 499, 'literally': 500, 'used': 501, 'vegetarian': 502, 'reviews': 503, 'healthy': 504, 'lacking': 505, 'interesting': 506, 'decor': 507, 'butter': 508, 'egg': 509, 'dog': 510, 'insulted': 511, 'hope': 512, 'brunch': 513, 'white': 514, 'soggy': 515, 'unless': 516, 'lobster': 517, 'course': 518, 'none': 519, 'stop': 520, 'isn': 521, 'world': 522, 'couple': 523, 'yet': 524, 'couldn': 525, 'point': 526, 'flavorful': 527, 'par': 528, 'received': 529, 'generous': 530, '8': 531, 'patio': 532, 'outstanding': 533, 'pizzas': 534, 'pulled': 535, 'star': 536, 'please': 537, 'review': 538, 'stay': 539, 'favorite': 540, 'especially': 541, 'mom': 542, 'pleasant': 543, 'pleased': 544, 'equally': 545, 'bathroom': 546, 'door': 547, 'cool': 548, 'else': 549, 'find': 550, 'deserves': 551, 'stomach': 552, 'green': 553, 'beans': 554, 'told': 555, 'total': 556, 'regular': 557, 'until': 558, 'big': 559, '35': 560, 'rather': 561, 'bill': 562, 'worse': 563, 'meals': 564, 'homemade': 565, 'such': 566, 'gone': 567, 'those': 568, 'need': 569, 'desserts': 570, 'boyfriend': 571, 'room': 572, 'maybe': 573, 'believe': 574, 'setting': 575, 'wanted': 576, 'ok': 577, 'half': 578, 'list': 579, 'vibe': 580, 'him': 581, 'edible': 582, 'seating': 583, 'style': 584, 'salsa': 585, 'awful': 586, 'lacked': 587, 'crust': 588, 'stopped': 589, 'late': 590, 'touch': 591, 'cashier': 592, 'ended': 593, 'mmmm': 594, 'human': 595, 'hair': 596, 'cute': 597, 'red': 598, 'stuff': 599, 'mexican': 600, 'overwhelmed': 601, 'decent': 602, 'seems': 603, 'bite': 604, 'familiar': 605, 'favor': 606, 'inexpensive': 607, 'delight': 608, 'into': 609, 'judge': 610, 'grossed': 611, 'note': 612, 'behind': 613, 'char': 614, 'realized': 615, 'attitudes': 616, 'towards': 617, 'customers': 618, 'portion': 619, 'attack': 620, 'grill': 621, 'downtown': 622, 'excuse': 623, 'scallop': 624, 'ripped': 625, 'refill': 626, 'appetizers': 627, 'glad': 628, 'heard': 629, 'batter': 630, 'finish': 631, 'above': 632, 'beyond': 633, 'meh': 634, 'min': 635, 'known': 636, 'suck': 637, 'use': 638, 'value': 639, 'seasoned': 640, 'wasting': 641, 'opportunity': 642, 'company': 643, 'underwhelming': 644, 'person': 645, 'break': 646, 'grease': 647, 'others': 648, 'roast': 649, 'sugary': 650, 'six': 651, 'year': 652, 'die': 653, 'bye': 654, 'lady': 655, 'serves': 656, 'roasted': 657, 'garlic': 658, 'marrow': 659, 'added': 660, 'extra': 661, 'mary': 662, 'cannot': 663, 'bartender': 664, 'playing': 665, 'lovers': 666, 'passed': 667, 'between': 668, 'gross': 669, 'preparing': 670, 'indian': 671, 'boot': 672, 'word': 673, 'belly': 674, 'crispy': 675, 'wrap': 676, 'tuna': 677, 'bagels': 678, 'selections': 679, 'bars': 680, 'dine': 681, 'rarely': 682, 'curry': 683, 'top': 684, 'bathrooms': 685, 'decorated': 686, 'pace': 687, 'greeted': 688, 'joint': 689, 'cut': 690, 'bakery': 691, 'reasonably': 692, 'looking': 693, 'ladies': 694, 'hip': 695, 'overcooked': 696, 'charcoal': 697, 'decided': 698, 'looked': 699, 'dirt': 700, 'station': 701, 'watch': 702, 'gyros': 703, 'feeling': 704, 'valley': 705, 'bowl': 706, 'disrespected': 707, 'stepped': 708, 'gold': 709, 'puree': 710, 'bug': 711, 'given': 712, 'shower': 713, 'mind': 714, 'bisque': 715, 'filet': 716, 'needed': 717, 'pepper': 718, 'cook': 719, 'dealing': 720, 'double': 721, 'cheeseburger': 722, 'single': 723, 'yum': 724, 'mayo': 725, 'honestly': 726, 'stayed': 727, 'almost': 728, 'building': 729, 'dark': 730, 'set': 731, 'sub': 732, 'creamy': 733, 'similar': 734, 'complaints': 735, '7': 736, 'sticks': 737, 'tap': 738, 'plus': 739, 'bucks': 740, 'coffee': 741, 'cant': 742, 'boba': 743, 'taco': 744, 'bachi': 745, 'salads': 746, '100': 747, 'hate': 748, 'hours': 749, 'later': 750, 'neighborhood': 751, 'convenient': 752, 'soooo': 753, 'third': 754, 'stir': 755, '12': 756, 'summer': 757, 'delightful': 758, 'toasted': 759, 'boy': 760, 'hand': 761, 'basically': 762, 'joke': 763, 'fare': 764, 'pricing': 765, 'without': 766, 'doubt': 767, 'black': 768, 'serve': 769, 'seen': 770, 'bites': 771, 'omg': 772, 'feels': 773, 'brick': 774, 'oven': 775, 'multiple': 776, 'ten': 777, 'finally': 778, 'pancakes': 779, 'eggs': 780, 'treat': 781, 'evening': 782, 'life': 783, 'lukewarm': 784, 'comfortable': 785, 'eggplant': 786, 'fry': 787, 'part': 788, 'happened': 789, 'car': 790, 'front': 791, 'anyone': 792, 'stuffed': 793, 'mall': 794, 'kids': 795, 'lots': 796, 'perfection': 797, 'impeccable': 798, 'simply': 799, 'pop': 800, 'assure': 801, 'trying': 802, 'completely': 803, 'become': 804, 'professional': 805, 'end': 806, 'mistake': 807, 'nicest': 808, 'biscuits': 809, 'cow': 810, 'anyway': 811, 'week': 812, 'combination': 813, 'driest': 814, 'tots': 815, 'paid': 816, 'acknowledged': 817, 'margaritas': 818, 'disappoint': 819, 'flower': 820, 'group': 821, 'crab': 822, 'legs': 823, 'sliced': 824, 'dont': 825, 'bunch': 826, 'filling': 827, 'lovely': 828, 'whole': 829, 'choose': 830, 'entrees': 831, 'actually': 832, 'recent': 833, 'however': 834, 'tapas': 835, 'vinegrette': 836, 'baby': 837, 'disgusting': 838, 'helped': 839, 'recently': 840, 'fan': 841, 'rated': 842, 'cheap': 843, 'presentation': 844, 'color': 845, 'sitting': 846, 'fairly': 847, 'satisfying': 848, 'its': 849, 'grilled': 850, 'means': 851, 'non': 852, 'focused': 853, 'guy': 854, 'same': 855, 'promise': 856, 'italian': 857, 'legit': 858, 'staying': 859, 'work': 860, 'fail': 861, 'plate': 862, 'needless': 863, 'serving': 864, 'longer': 865, 'orders': 866, 'simple': 867, 'fly': 868, 'chinese': 869, 'paper': 870, 'anything': 871, 'complain': 872, 'crowd': 873, 'mid': 874, 'definately': 875, 'low': 876, 'bother': 877, 'offers': 878, 'flavorless': 879, 'nachos': 880, 'does': 881, 'crazy': 882, 'tribute': 883, 'fell': 884, 'services': 885, 'heat': 886, 'started': 887, 'aren': 888, 'three': 889, 'spend': 890, 'lost': 891, 'undercooked': 892, 'seemed': 893, 'bank': 894, 'holiday': 895, 'rick': 896, 'steve': 897, 'angry': 898, 'honeslty': 899, 'rubber': 900, 'ahead': 901, 'warmer': 902, 'prompt': 903, 'wayyy': 904, 'cape': 905, 'cod': 906, 'ravoli': 907, 'cranberry': 908, 'disgusted': 909, 'shocked': 910, 'signs': 911, 'indicate': 912, 'cash': 913, 'alone': 914, 'burrittos': 915, 'blah': 916, 'less': 917, 'interior': 918, 'performed': 919, 'velvet': 920, 'cake': 921, 'ohhh': 922, 'hole': 923, 'street': 924, 'luke': 925, 'sever': 926, 'combos': 927, '23': 928, 'final': 929, 'blow': 930, 'accident': 931, 'happier': 932, 'grab': 933, 'pub': 934, 'redeeming': 935, 'ample': 936, 'stupid': 937, 'hiro': 938, 'drag': 939, 'whether': 940, 'melted': 941, 'styrofoam': 942, 'fear': 943, 'positive': 944, 'provided': 945, 'pucks': 946, 'disgust': 947, 'register': 948, 'prime': 949, 'rib': 950, 'section': 951, 'generic': 952, 'firehouse': 953, 'refreshing': 954, 'pink': 955, 'sunglasses': 956, 'chow': 957, 'mein': 958, 'imaginative': 959, 'lined': 960, 'strings': 961, 'bottom': 962, 'power': 963, 'banana': 964, 'petrified': 965, 'struggle': 966, 'wave': 967, 'receives': 968, 'cocktails': 969, 'handmade': 970, 'military': 971, 'discount': 972, 'dos': 973, 'gringos': 974, 'update': 975, 'amazin': 976, 'apparently': 977, 'included': 978, 'tastings': 979, 'jeff': 980, 'milkshake': 981, 'chocolate': 982, 'milk': 983, 'excalibur': 984, 'common': 985, 'sense': 986, 'appalling': 987, 'cheated': 988, 'experiencing': 989, 'relationship': 990, 'parties': 991, 'smelled': 992, 'trap': 993, 'turkey': 994, 'pan': 995, 'cakes': 996, 'raving': 997, 'disaster': 998, 'tailored': 999, 'palate': 1000, 'spring': 1001, 'ratio': 1002, 'tenders': 1003, 'unsatisfying': 1004, 'omelets': 1005, 'summary': 1006, 'largely': 1007, 'sexy': 1008, 'outrageously': 1009, 'flirting': 1010, 'hottest': 1011, 'rock': 1012, 'casino': 1013, 'step': 1014, 'forward': 1015, 'loves': 1016, 'bone': 1017, 'bloddy': 1018, 'mussels': 1019, 'reduction': 1020, 'buffets': 1021, 'tigerlilly': 1022, 'afternoon': 1023, 'personable': 1024, 'sooooo': 1025, 'yama': 1026, '40min': 1027, 'ordering': 1028, 'arriving': 1029, 'mess': 1030, 'sound': 1031, 'actual': 1032, 'managed': 1033, 'blandest': 1034, 'cuisine': 1035, 'worries': 1036, 'guys': 1037, 'loving': 1038, 'son': 1039, 'venture': 1040, 'further': 1041, 'host': 1042, 'lack': 1043, 'bitches': 1044, 'liking': 1045, 'number': 1046, 'reasons': 1047, 'reviewing': 1048, 'phenomenal': 1049, 'venturing': 1050, 'penne': 1051, 'vodka': 1052, 'including': 1053, 'massive': 1054, 'meatloaf': 1055, 'nyc': 1056, 'lox': 1057, 'capers': 1058, 'meet': 1059, 'expectations': 1060, 'solid': 1061, 'weekend': 1062, 'suggestions': 1063, 'bamboo': 1064, 'shoots': 1065, 'blanket': 1066, 'moz': 1067, 'cover': 1068, 'subpar': 1069, 'changing': 1070, 'dow': 1071, 'attention': 1072, 'ignore': 1073, 'fianc': 1074, 'middle': 1075, 'mandalay': 1076, 'forty': 1077, 'five': 1078, 'vain': 1079, 'crostini': 1080, 'highlights': 1081, 'nigiri': 1082, 'flavored': 1083, 'voodoo': 1084, 'gluten': 1085, 'free': 1086, 'leftover': 1087, 'relocated': 1088, 'diverse': 1089, 'cost': 1090, 'metro': 1091, 'hella': 1092, 'salty': 1093, 'spinach': 1094, 'avocado': 1095, 'ingredients': 1096, 'menus': 1097, 'handed': 1098, 'listed': 1099, 'waitresses': 1100, 'lordy': 1101, 'khao': 1102, 'soi': 1103, 'missed': 1104, 'terrific': 1105, 'thrilled': 1106, 'accommodations': 1107, 'daughter': 1108, 'perhaps': 1109, 'caught': 1110, 'judging': 1111, 'inspired': 1112, 'leaves': 1113, 'desired': 1114, 'modern': 1115, 'maintaining': 1116, 'coziness': 1117, 'weekly': 1118, 'haunt': 1119, 'asking': 1120, 'send': 1121, 'verge': 1122, 'having': 1123, 'dressed': 1124, 'rudely': 1125, 'hits': 1126, 'quantity': 1127, 'lemon': 1128, 'raspberry': 1129, 'cocktail': 1130, 'imagined': 1131, 'crepe': 1132, 'bits': 1133, 'original': 1134, 'missing': 1135, 'satisfied': 1136, 'joey': 1137, 'voted': 1138, 'readers': 1139, 'magazine': 1140, 'fridays': 1141, 'blows': 1142, 'exceeding': 1143, 'dreamed': 1144, 'serivce': 1145, 'help': 1146, 'inviting': 1147, 'lived': 1148, '1979': 1149, 'foot': 1150, 'mixed': 1151, 'mushrooms': 1152, 'yukon': 1153, 'corn': 1154, 'beateous': 1155, 'showed': 1156, 'climbing': 1157, 'kitchen': 1158, 'tartar': 1159, 'jamaican': 1160, 'mojitos': 1161, 'rich': 1162, 'accordingly': 1163, 'rinse': 1164, 'nude': 1165, 'bussell': 1166, 'sprouts': 1167, 'risotto': 1168, 'hopefully': 1169, 'bodes': 1170, 'wrapped': 1171, 'dates': 1172, 'unbelievable': 1173, 'bargain': 1174, 'otto': 1175, 'welcome': 1176, 'mains': 1177, 'uninspired': 1178, 'whenever': 1179, 'annoying': 1180, 'drunk': 1181, 'patty': 1182, 'falling': 1183, 'apart': 1184, 'picture': 1185, 'uploaded': 1186, 'yeah': 1187, 'sporting': 1188, 'events': 1189, 'walls': 1190, 'covered': 1191, 'tv': 1192, 'descriptions': 1193, 'eel': 1194, 'sauces': 1195, 'hardest': 1196, 'decision': 1197, 'supposed': 1198, 'rolled': 1199, 'eyes': 1200, 'providing': 1201, 'flavourful': 1202, 'freezing': 1203, 'reviewer': 1204, 'delights': 1205, 'ayce': 1206, 'lighting': 1207, 'mood': 1208, 'based': 1209, 'effort': 1210, 'show': 1211, 'gratitude': 1212, 'privileged': 1213, 'working': 1214, 'parents': 1215, 'most': 1216, 'silently': 1217, 'peanut': 1218, 'godfathers': 1219, 'tough': 1220, 'short': 1221, 'recall': 1222, 'charged': 1223, 'exquisite': 1224, 'thus': 1225, 'visited': 1226, 'self': 1227, 'proclaimed': 1228, 'wildly': 1229, 'veggitarian': 1230, 'platter': 1231, 'madison': 1232, 'ironman': 1233, 'chefs': 1234, 'dedicated': 1235, 'spots': 1236, 'jenni': 1237, 'goat': 1238, 'skimp': 1239, 'agai': 1240, 'mac': 1241, 'stinks': 1242, 'burned': 1243, 'saganaki': 1244, 'disagree': 1245, 'fellow': 1246, 'yelpers': 1247, 'incredibly': 1248, 'prepared': 1249, 'rating': 1250, 'writing': 1251, 'noodles': 1252, 'chip': 1253, 'count': 1254, 'box': 1255, 'boring': 1256, 'greedy': 1257, 'corporation': 1258, 'dime': 1259, 'atrocious': 1260, 'charming': 1261, 'outdoor': 1262, 'english': 1263, 'muffin': 1264, 'untoasted': 1265, 'bus': 1266, 'figured': 1267, 'making': 1268, 'publicly': 1269, 'loudly': 1270, 'bbq': 1271, 'lighter': 1272, 'public': 1273, 'ways': 1274, 'downside': 1275, 'exceptional': 1276, 'months': 1277, 'returned': 1278, 'shawarrrrrrma': 1279, 'eyed': 1280, 'peas': 1281, 'unreal': 1282, 'vinaigrette': 1283, '00': 1284, 'honor': 1285, 'hut': 1286, 'coupons': 1287, 'truly': 1288, 'unbelievably': 1289, 'seat': 1290, 'covers': 1291, 'replenished': 1292, 'plain': 1293, 'yucky': 1294, 'standard': 1295, '17': 1296, 'delicioso': 1297, 'spaghetti': 1298, 'whatsoever': 1299, 'driving': 1300, 'tucson': 1301, 'chipotle': 1302, 'classy': 1303, 'succulent': 1304, 'baseball': 1305, 'app': 1306, 'shouldn': 1307, 'genuinely': 1308, 'enthusiastic': 1309, 'sadly': 1310, 'gordon': 1311, 'ramsey': 1312, 'shall': 1313, 'sharply': 1314, 'offered': 1315, 'turn': 1316, 'buying': 1317, 'handling': 1318, 'rowdy': 1319, 'despicable': 1320, 'craving': 1321, 'ache': 1322, 'rest': 1323, 'dropped': 1324, 'ball': 1325, 'space': 1326, 'tiny': 1327, 'elegantly': 1328, 'customize': 1329, 'usual': 1330, 'bean': 1331, 'outta': 1332, 'inconsiderate': 1333, 'says': 1334, 'hi': 1335, 'dinners': 1336, 'outshining': 1337, 'halibut': 1338, 'breaks': 1339, 'starving': 1340, '90': 1341, 'disgrace': 1342, 'def': 1343, 'tim': 1344, 'ethic': 1345, 'continue': 1346, 'andddd': 1347, 'date': 1348, 'past': 1349, 'located': 1350, 'crystals': 1351, 'shopping': 1352, 'aria': 1353, 'summarize': 1354, 'nay': 1355, 'transcendant': 1356, 'brings': 1357, 'joy': 1358, 'memory': 1359, 'pneumatic': 1360, 'condiment': 1361, 'dispenser': 1362, 'ians': 1363, 'kiddos': 1364, 'bouchon': 1365, 'accountant': 1366, 'screwed': 1367, 'reminds': 1368, 'shops': 1369, 'san': 1370, 'francisco': 1371, 'buldogis': 1372, 'gourmet': 1373, 'frustrated': 1374, 'petty': 1375, 'iced': 1376, 'hungry': 1377, 'teeth': 1378, 'sore': 1379, 'companions': 1380, 'ground': 1381, 'smeared': 1382, 'tracked': 1383, 'everywhere': 1384, 'pile': 1385, 'bird': 1386, 'poop': 1387, 'furthermore': 1388, 'operation': 1389, 'website': 1390, 'expert': 1391, 'connisseur': 1392, 'topic': 1393, 'jerk': 1394, 'strike': 1395, 'wants': 1396, 'rushed': 1397, 'across': 1398, 'appetizer': 1399, 'absolutley': 1400, 'awkward': 1401, '5lb': 1402, '4ths': 1403, 'gristle': 1404, 'fat': 1405, 'steiners': 1406, 'dollars': 1407, 'fs': 1408, 'mention': 1409, 'pears': 1410, 'almonds': 1411, 'winner': 1412, 'spicier': 1413, 'prefer': 1414, 'ribeye': 1415, 'mesquite': 1416, 'gooodd': 1417, 'connoisseur': 1418, 'difference': 1419, 'certainly': 1420, 'contained': 1421, 'mouthful': 1422, 'enjoyable': 1423, 'relaxed': 1424, 'venue': 1425, 'couples': 1426, 'groups': 1427, 'etc': 1428, 'nargile': 1429, 'tater': 1430, 'southwest': 1431, 'vanilla': 1432, 'smooth': 1433, 'profiterole': 1434, 'choux': 1435, 'pastry': 1436, 'im': 1437, 'az': 1438, 'carly': 1439, 'due': 1440, 'forgetting': 1441, 'ventilation': 1442, 'upgrading': 1443, 'letdown': 1444, 'camelback': 1445, 'shop': 1446, 'cartel': 1447, 'trimmed': 1448, '70': 1449, 'claimed': 1450, 'handled': 1451, 'beautifully': 1452, 'jewel': 1453, 'las': 1454, 'exactly': 1455, 'hoping': 1456, 'nearly': 1457, 'living': 1458, 'limited': 1459, 'boiled': 1460, 'toro': 1461, 'tartare': 1462, 'cavier': 1463, 'extraordinary': 1464, 'thinly': 1465, 'wagyu': 1466, 'truffle': 1467, 'attached': 1468, 'gas': 1469, 'sign': 1470, 'decide': 1471, 'humiliated': 1472, 'worker': 1473, 'name': 1474, 'callings': 1475, 'conclusion': 1476, 'daily': 1477, 'specials': 1478, 'tragedy': 1479, 'struck': 1480, 'pancake': 1481, 'crawfish': 1482, 'monster': 1483, 'funny': 1484, 'multi': 1485, 'grain': 1486, 'pumpkin': 1487, 'pecan': 1488, 'fluffy': 1489, 'airline': 1490, 'noca': 1491, 'gyro': 1492, 'lettuce': 1493, 'thoroughly': 1494, 'pastas': 1495, 'cheesecurds': 1496, 'typical': 1497, 'glance': 1498, 'finger': 1499, 'item': 1500, 'beauty': 1501, 'haven': 1502, 'greasy': 1503, 'unhealthy': 1504, 'might': 1505, 'similarly': 1506, 'delivery': 1507, 'man': 1508, 'apology': 1509, '45': 1510, 'expensive': 1511, 'pack': 1512, 'tiramisu': 1513, 'cannoli': 1514, 'sun': 1515, 'meats': 1516, 'experienced': 1517, 'frenchman': 1518, 'martini': 1519, 'opinion': 1520, 'gc': 1521, 'sample': 1522, 'thirty': 1523, 'vacant': 1524, 'yellowtail': 1525, 'carpaccio': 1526, 'strangers': 1527, 'hello': 1528, 'strange': 1529, 'donut': 1530, 'saving': 1531, 'disgraceful': 1532, 'particular': 1533, 'suffers': 1534, 'greens': 1535, 'hearts': 1536, 'palm': 1537, 'hankering': 1538, 'forth': 1539, 'consider': 1540, 'theft': 1541, 'eew': 1542, 'complete': 1543, 'overhaul': 1544, 'witnessed': 1545, 'guests': 1546, 'regularly': 1547, 'swung': 1548, 'deeply': 1549, 'efficient': 1550, 'sucker': 1551, '15': 1552, 'olives': 1553, 'perpared': 1554, 'giant': 1555, 'slices': 1556, 'toast': 1557, 'lightly': 1558, 'dusted': 1559, 'powdered': 1560, 'sugar': 1561, 'play': 1562, 'fo': 1563, 'accomodate': 1564, 'vegan': 1565, 'veggie': 1566, 'crumby': 1567, 'pale': 1568, 'instead': 1569, 'croutons': 1570, 'trips': 1571, 'crema': 1572, 'caf': 1573, 'expanded': 1574, 'miss': 1575, 'wish': 1576, 'philadelphia': 1577, 'crisp': 1578, 'north': 1579, 'scottsdale': 1580, 'quit': 1581, 'soooooo': 1582, 'freaking': 1583, 'papers': 1584, 'reheated': 1585, 'wedges': 1586, 'sorry': 1587, 'absolute': 1588, 'tongue': 1589, 'cheek': 1590, 'bloody': 1591, 'despite': 1592, 'rate': 1593, 'businesses': 1594, 'yellow': 1595, 'saffron': 1596, 'seasoning': 1597, 'thru': 1598, 'somehow': 1599, 'luck': 1600, 'grandmother': 1601, 'ignored': 1602, 'hostess': 1603, 'myself': 1604, 'boys': 1605, 'four': 1606, 'blue': 1607, 'shirt': 1608, 'letting': 1609, 'drastically': 1610, 'caesar': 1611, 'promptly': 1612, 'madhouse': 1613, 'proven': 1614, 'dead': 1615, 'greatest': 1616, 'moods': 1617, 'macarons': 1618, 'insanely': 1619, 'informative': 1620, 'weren': 1621, 'somewhat': 1622, 'fails': 1623, 'deliver': 1624, 'plater': 1625, 'relax': 1626, 'sit': 1627, 'together': 1628, 'poorly': 1629, 'constructed': 1630, 'screams': 1631, 'book': 1632, 'somethat': 1633, 'duo': 1634, 'violinists': 1635, 'songs': 1636, 'requested': 1637, 'personally': 1638, 'baklava': 1639, 'falafels': 1640, 'baba': 1641, 'ganoush': 1642, 'mgm': 1643, 'courteous': 1644, 'eclectic': 1645, 'onion': 1646, 'rings': 1647, 'pictures': 1648, 'nobu': 1649, 'google': 1650, 'imagine': 1651, 'smashburger': 1652, 'lover': 1653, 'gem': 1654, 'plantains': 1655, 'giving': 1656, 'spends': 1657, 'talking': 1658, 'themselves': 1659, 'panna': 1660, 'cotta': 1661, 'flavors': 1662, 'slaw': 1663, 'drenched': 1664, 'piano': 1665, 'soundtrack': 1666, 'rge': 1667, 'fillet': 1668, 'relleno': 1669, 'sergeant': 1670, 'auju': 1671, 'hawaiian': 1672, 'breeze': 1673, 'mango': 1674, 'magic': 1675, 'pineapple': 1676, 'smoothies': 1677, 'mortified': 1678, 'anyways': 1679, 'dripping': 1680, 'mostly': 1681, '2007': 1682, 'hospitality': 1683, 'industry': 1684, 'paradise': 1685, 'refrained': 1686, 'recommending': 1687, 'cibo': 1688, 'mean': 1689, 'famous': 1690, 'mouths': 1691, 'bellies': 1692, 'reading': 1693, 'reminded': 1694, 'pros': 1695, 'dough': 1696, 'tonight': 1697, 'elk': 1698, 'hooked': 1699, 'classics': 1700, 'sorely': 1701, 'quaint': 1702, 'deliciously': 1703, 'compliments': 1704, 'thanks': 1705, 'dylan': 1706, 'tummy': 1707, 'gratuity': 1708, 'larger': 1709, '6': 1710, 'apple': 1711, 'juice': 1712, 'han': 1713, 'nan': 1714, 'ryan': 1715, 'edinburgh': 1716, 'revisiting': 1717, 'naan': 1718, 'pine': 1719, 'nut': 1720, 'touched': 1721, 'airport': 1722, 'speedy': 1723, 'calligraphy': 1724, 'stood': 1725, 'begin': 1726, 'awkwardly': 1727, 'opened': 1728, 'guest': 1729, 'extensive': 1730, 'provides': 1731, 'wide': 1732, 'array': 1733, 'inflate': 1734, 'smaller': 1735, 'grow': 1736, 'rapidly': 1737, 'lil': 1738, 'fuzzy': 1739, 'fabulous': 1740, 'wontons': 1741, 'thick': 1742, 'level': 1743, 'spice': 1744, 'whelm': 1745, 'main': 1746, 'older': 1747, '30s': 1748, 'arepas': 1749, 'jalapeno': 1750, 'thats': 1751, 'shoe': 1752, 'leather': 1753, 'block': 1754, 'key': 1755, 'fancy': 1756, 'affordable': 1757, 'sour': 1758, 'soups': 1759, 'sunday': 1760, 'traditional': 1761, 'hunan': 1762, 'flair': 1763, 'bartenders': 1764, 'nutshell': 1765, 'restaraunt': 1766, 'smells': 1767, 'market': 1768, 'sewer': 1769, 'girlfriend': 1770, 'veal': 1771, 'satifying': 1772, 'join': 1773, 'club': 1774, 'via': 1775, 'email': 1776, 'likes': 1777, 'case': 1778, 'colder': 1779, 'describing': 1780, 'tepid': 1781, 'chains': 1782, 'easily': 1783, 'words': 1784, 'crowds': 1785, 'juries': 1786, 'lawyers': 1787, 'court': 1788, 'arrives': 1789, 'paying': 1790, '85': 1791, 'looks': 1792, 'kid': 1793, 'wienerschnitzel': 1794, 'idea': 1795, 'classic': 1796, 'maine': 1797, 'roll': 1798, 'brother': 1799, 'law': 1800, 'works': 1801, 'hereas': 1802, 'event': 1803, 'held': 1804, 'pissd': 1805, 'surprise': 1806, 'golden': 1807, 'hopes': 1808, 'bruschetta': 1809, 'devine': 1810, 'employee': 1811, 'lastly': 1812, 'mozzarella': 1813, 'negligent': 1814, 'unwelcome': 1815, 'suggest': 1816, 'consistent': 1817, 'packed': 1818, 'seasonal': 1819, 'fruit': 1820, 'peach': 1821, 'officially': 1822, 'blown': 1823, 'put': 1824, 'plastic': 1825, 'containers': 1826, 'opposed': 1827, 'cramming': 1828, 'takeout': 1829, 'boxes': 1830, 'cr': 1831, 'pe': 1832, 'delicate': 1833, 'fair': 1834, 'kabuki': 1835, 'maria': 1836, 'surprised': 1837, 'article': 1838, 'read': 1839, 'spices': 1840, 'fucking': 1841, 'caballero': 1842, 'head': 1843, 'oysters': 1844, 'round': 1845, 'disbelief': 1846, 'qualified': 1847, 'version': 1848, 'foods': 1849, 'tolerance': 1850, 'polite': 1851, 'wash': 1852, 'otherwise': 1853, 'biscuit': 1854, 'hated': 1855, 'coconut': 1856, 'fella': 1857, 'huevos': 1858, 'rancheros': 1859, 'appealing': 1860, 'wines': 1861, 'pricey': 1862, 'temp': 1863, 'prepare': 1864, 'bare': 1865, 'gloves': 1866, 'deep': 1867, 'oil': 1868, 'pleasure': 1869, 'plethora': 1870, 'sandwiches': 1871, 'gets': 1872, 'seal': 1873, 'approval': 1874, 'light': 1875, 'college': 1876, 'cooking': 1877, 'class': 1878, 'editing': 1879, 'besides': 1880, 'costco': 1881, 'highlighted': 1882, 'unique': 1883, 'weird': 1884, 'hardly': 1885, 'grocery': 1886, 'store': 1887, 'japanese': 1888, 'dude': 1889, 'doughy': 1890, 'inch': 1891, 'wire': 1892, 'ourselves': 1893, 'albondigas': 1894, 'tomato': 1895, 'meatballs': 1896, 'occasions': 1897, 'medium': 1898, 'bloodiest': 1899, 'refused': 1900, 'anymore': 1901, 'killer': 1902, 'chai': 1903, 'latte': 1904, 'allergy': 1905, 'warnings': 1906, 'clue': 1907, 'contain': 1908, 'peanuts': 1909, 'mediterranean': 1910, 'rotating': 1911, 'beers': 1912, 'highlight': 1913, 'concern': 1914, 'mellow': 1915, 'mushroom': 1916, 'strawberry': 1917, 'unprofessional': 1918, 'loyal': 1919, 'patron': 1920, 'occasional': 1921, 'pats': 1922, 'bellagio': 1923, 'anticipated': 1924, 'weak': 1925, 'correct': 1926, 'bought': 1927, 'sals': 1928, 'returning': 1929, 'fav': 1930, 'unexperienced': 1931, 'employees': 1932, 'chickens': 1933, 'heads': 1934, 'call': 1935, 'steakhouse': 1936, 'properly': 1937, 'understand': 1938, 'concept': 1939, 'guacamole': 1940, 'pur': 1941, 'ed': 1942, 'postinos': 1943, 'bette': 1944, 'poisoning': 1945, 'batch': 1946, 'thinking': 1947, 'yay': 1948, 'hilarious': 1949, 'christmas': 1950, 'eve': 1951, 'remember': 1952, 'biggest': 1953, 'entire': 1954, 'caring': 1955, 'teamwork': 1956, 'degree': 1957, 'ri': 1958, 'calamari': 1959, 'fondue': 1960, 'forever': 1961, 'ones': 1962, 'scene': 1963, 'denny': 1964, 'downright': 1965, 'waaaaaayyyyyyyyyy': 1966, 'saying': 1967, 'sangria': 1968, 'glass': 1969, 'ridiculous': 1970, 'brisket': 1971, 'neat': 1972, 'trippy': 1973, 'hurry': 1974, 'reservation': 1975, 'stretch': 1976, 'imagination': 1977, 'cashew': 1978, 'chipolte': 1979, 'ranch': 1980, 'dipping': 1981, 'sause': 1982, 'watered': 1983, 'workers': 1984, 'douchey': 1985, 'indoor': 1986, 'garden': 1987, 'con': 1988, 'spotty': 1989, 'neither': 1990, 'ensued': 1991, 'apologize': 1992, 'reason': 1993, 'fill': 1994, 'binge': 1995, 'drinking': 1996, 'carbs': 1997, 'insults': 1998, 'profound': 1999, 'deuchebaggery': 2000, 'smoke': 2001, 'solidify': 2002, 'combo': 2003, 'ala': 2004, 'cart': 2005, 'blame': 2006, 'placed': 2007, 'rave': 2008, 'del': 2009, 'avoided': 2010, 'hamburger': 2011, 'hell': 2012, 'bac': 2013, 'gotten': 2014, 'ya': 2015, 'doing': 2016, 'shots': 2017, 'fireball': 2018, 'disapppointment': 2019, 'correction': 2020, 'heimer': 2021, 'putting': 2022, 'cause': 2023, 'owned': 2024, 'vomited': 2025, 'circumstances': 2026, 'tops': 2027, 'brownish': 2028, 'obviously': 2029, 'below': 2030, 'movies': 2031, 'ha': 2032, 'flop': 2033, 'problem': 2034, 'charge': 2035, '11': 2036, '99': 2037, 'bigger': 2038, 'unwrapped': 2039, 'mile': 2040, 'brushfire': 2041, 'impressive': 2042, 'hasn': 2043, 'closed': 2044, 'mirage': 2045, 'refried': 2046, 'dried': 2047, 'crusty': 2048, 'caterpillar': 2049, 'appetite': 2050, 'instantly': 2051, 'ninja': 2052, 'hadn': 2053, 'wasted': 2054, 'poured': 2055, 'wound': 2056, 'drawing': 2057}\n"
     ]
    }
   ],
   "source": [
    "word_index = tokenizer.word_index\n",
    "print(word_index)"
   ]
  },
  {
   "cell_type": "markdown",
   "metadata": {},
   "source": [
    "### B3 - Padding \n",
    "\n",
    "Post padding will be used to all our review data to match the review with the max length of 35."
   ]
  },
  {
   "cell_type": "code",
   "execution_count": 17,
   "metadata": {},
   "outputs": [
    {
     "data": {
      "text/plain": [
       "array([269,   6, 610, 940, 301, 447,  29,  17, 125,  18,  29, 611,  65,\n",
       "        77,   1, 941, 942,   2, 133,  16, 132,   6,  89,   8,  13, 943,\n",
       "        10, 203, 302,   0,   0,   0,   0,   0,   0])"
      ]
     },
     "execution_count": 17,
     "metadata": {},
     "output_type": "execute_result"
    }
   ],
   "source": [
    "#padding at the end of our sequence\n",
    "sequence_data = tokenizer.texts_to_sequences(data['Review'])\n",
    "padded_data = pad_sequences(sequence_data, maxlen=35, padding='post', truncating='post')\n",
    "padded_data[42]"
   ]
  },
  {
   "cell_type": "code",
   "execution_count": 18,
   "metadata": {},
   "outputs": [],
   "source": [
    "feature_df = pd.DataFrame(padded_data)\n",
    "feature_df = feature_df.astype(float)"
   ]
  },
  {
   "cell_type": "code",
   "execution_count": 19,
   "metadata": {},
   "outputs": [
    {
     "data": {
      "text/plain": [
       "dtype('float64')"
      ]
     },
     "execution_count": 19,
     "metadata": {},
     "output_type": "execute_result"
    }
   ],
   "source": [
    "target_df = pd.DataFrame(data['Rating'])\n",
    "target_df = target_df['Rating'].astype(float)\n",
    "target_df.dtypes"
   ]
  },
  {
   "cell_type": "markdown",
   "metadata": {},
   "source": [
    "### B4 - Sentiment Analysis\n",
    "\n",
    "We will be using a function to create our model. This model will be 3 hidden layers. This first and second layers will use the Relu activation function and the third layer will use the softmax function. The code is shown below:\n",
    "\n",
    "def get_model():\n",
    "    model = Sequential()\n",
    "    model.add(layers.Dense(100, activation='relu', input_shape=(35,))) \n",
    "    model.add(layers.Dense(50, activation='relu'))\n",
    "    model.add(layers.Dense(2, activation='softmax'))\n",
    "    return model"
   ]
  },
  {
   "cell_type": "markdown",
   "metadata": {},
   "source": [
    "### B5 - Steps used to prepare the data for analysis\n",
    "\n",
    "1. Read the Yelp data and indicate no headers.\n",
    "2. Add Review and Rating column names.\n",
    "3. Separate the Rating score from the Review column.\n",
    "4. Drop last 3 characters from Review column.\n",
    "5. Lower case the review column.\n",
    "6. Check for any unusual characters and remove them.\n",
    "7. Check for the max length of word sequence.\n",
    "8. Create a word index using tokenization.\n",
    "9. Post-pad the sequence to standardize the length of all sentences.\n",
    "10. Convert Rating column to float64 data type.\n",
    "11. Save dataset to a csv file.\n",
    "12. Split the dataset 80/20.\n",
    "13. Create and fit the model."
   ]
  },
  {
   "cell_type": "code",
   "execution_count": 20,
   "metadata": {},
   "outputs": [
    {
     "name": "stdout",
     "output_type": "stream",
     "text": [
      "feature data type:\n",
      " 0     float64\n",
      "1     float64\n",
      "2     float64\n",
      "3     float64\n",
      "4     float64\n",
      "5     float64\n",
      "6     float64\n",
      "7     float64\n",
      "8     float64\n",
      "9     float64\n",
      "10    float64\n",
      "11    float64\n",
      "12    float64\n",
      "13    float64\n",
      "14    float64\n",
      "15    float64\n",
      "16    float64\n",
      "17    float64\n",
      "18    float64\n",
      "19    float64\n",
      "20    float64\n",
      "21    float64\n",
      "22    float64\n",
      "23    float64\n",
      "24    float64\n",
      "25    float64\n",
      "26    float64\n",
      "27    float64\n",
      "28    float64\n",
      "29    float64\n",
      "30    float64\n",
      "31    float64\n",
      "32    float64\n",
      "33    float64\n",
      "34    float64\n",
      "dtype: object\n",
      "\n",
      "target data type:  float64\n"
     ]
    }
   ],
   "source": [
    "f_train, f_test, t_train, t_test = train_test_split(feature_df, target_df, test_size=0.2, random_state=37)\n",
    "print('feature data type:\\n',f_train.dtypes)\n",
    "print('\\ntarget data type: ',t_train.dtypes)"
   ]
  },
  {
   "cell_type": "markdown",
   "metadata": {},
   "source": [
    "### B6 - Copy of Prepared Dataset"
   ]
  },
  {
   "cell_type": "code",
   "execution_count": 21,
   "metadata": {},
   "outputs": [],
   "source": [
    "#saves all 4 datasets into a csv files\n",
    "data.to_csv('Cleaned TensorFlow Yelp Data.csv')"
   ]
  },
  {
   "cell_type": "markdown",
   "metadata": {},
   "source": [
    "# Network Architecture"
   ]
  },
  {
   "cell_type": "code",
   "execution_count": 22,
   "metadata": {},
   "outputs": [
    {
     "name": "stdout",
     "output_type": "stream",
     "text": [
      "(1000, 2)\n",
      "(1000, 35)\n",
      "(1000,)\n",
      "      0      1      2     3      4      5      6      7      8      9   ...  \\\n",
      "0  430.0  166.0    9.0  15.0    0.0    0.0    0.0    0.0    0.0    0.0  ...   \n",
      "1  588.0    7.0   12.0  17.0    0.0    0.0    0.0    0.0    0.0    0.0  ...   \n",
      "2   12.0  153.0    2.0   1.0  431.0    4.0   48.0  432.0    0.0    0.0  ...   \n",
      "3  589.0   77.0  294.0   1.0  590.0  295.0  894.0  895.0  182.0  896.0  ...   \n",
      "4    1.0  167.0   36.0   1.0  110.0    4.0   23.0    2.0   27.0   29.0  ...   \n",
      "\n",
      "    25   26   27   28   29   30   31   32   33   34  \n",
      "0  0.0  0.0  0.0  0.0  0.0  0.0  0.0  0.0  0.0  0.0  \n",
      "1  0.0  0.0  0.0  0.0  0.0  0.0  0.0  0.0  0.0  0.0  \n",
      "2  0.0  0.0  0.0  0.0  0.0  0.0  0.0  0.0  0.0  0.0  \n",
      "3  0.0  0.0  0.0  0.0  0.0  0.0  0.0  0.0  0.0  0.0  \n",
      "4  0.0  0.0  0.0  0.0  0.0  0.0  0.0  0.0  0.0  0.0  \n",
      "\n",
      "[5 rows x 35 columns]\n"
     ]
    }
   ],
   "source": [
    "print(data.shape)\n",
    "print(feature_df.shape)\n",
    "print(target_df.shape)\n",
    "print(feature_df.head())"
   ]
  },
  {
   "cell_type": "markdown",
   "metadata": {},
   "source": [
    "### C1 - Output of Model Summary"
   ]
  },
  {
   "cell_type": "code",
   "execution_count": 23,
   "metadata": {},
   "outputs": [
    {
     "name": "stdout",
     "output_type": "stream",
     "text": [
      "Model: \"sequential\"\n",
      "_________________________________________________________________\n",
      "Layer (type)                 Output Shape              Param #   \n",
      "=================================================================\n",
      "dense (Dense)                (None, 2000)              72000     \n",
      "_________________________________________________________________\n",
      "dropout (Dropout)            (None, 2000)              0         \n",
      "_________________________________________________________________\n",
      "dense_1 (Dense)              (None, 500)               1000500   \n",
      "_________________________________________________________________\n",
      "dropout_1 (Dropout)          (None, 500)               0         \n",
      "_________________________________________________________________\n",
      "dense_2 (Dense)              (None, 50)                25050     \n",
      "_________________________________________________________________\n",
      "dense_3 (Dense)              (None, 2)                 102       \n",
      "=================================================================\n",
      "Total params: 1,097,652\n",
      "Trainable params: 1,097,652\n",
      "Non-trainable params: 0\n",
      "_________________________________________________________________\n"
     ]
    }
   ],
   "source": [
    "def get_model():\n",
    "    model = Sequential()\n",
    "    model.add(layers.Dense(2000, activation='sigmoid', input_shape=(35,)))\n",
    "    model.add(layers.Dropout(0.5))\n",
    "    model.add(layers.Dense(500, activation='relu'))\n",
    "    model.add(layers.Dropout(0.5))\n",
    "    model.add(layers.Dense(50, activation='relu'))\n",
    "    model.add(layers.Dense(2, activation='softmax'))\n",
    "    model.compile(optimizer='adam', loss='sparse_categorical_crossentropy', metrics=['accuracy'])\n",
    "    return model\n",
    "\n",
    "model = get_model()\n",
    "model.summary()"
   ]
  },
  {
   "cell_type": "markdown",
   "metadata": {},
   "source": [
    "### C2 - Number of Layers\n",
    "\n",
    "We have added 6 layers to our model:\n",
    "1st layer is an input layer using the sigmoid activation with 2000 parameters.\n",
    "2nd layer is a dropout layer to decrease overfitting.\n",
    "3rd layer is a hidden layer using the sigmiod activation with 500 parameters.\n",
    "4th layer is a dropout layer to decrease overfitting.\n",
    "5th layer is a hidden layer using the relu activation with 50 parameters.\n",
    "6th layer is an output layer using the softmax activation with 2 parameters.\n",
    "\n",
    "Total and Trainable parameters is 1,097,652.\n",
    "\n",
    "### C3 - Hyperparameters\n",
    "\n",
    "#### C3a - Activation Functions\n",
    "\n",
    "We are using 3 activation functions for this model: Sigmoid, Relu, and SoftMax. \n",
    "\n",
    "The Sigmoid Function is also called a squashing function as its domain is the set of all real numbers, and its range is (0, 1) (Mehreen Saeed, 2021). The sigmoid function is great for binary classification, especially that our target variable is whether the Yelp reviews is good or not.\n",
    "\n",
    "The Recitified Linear Activation (ReLu) function is commonly used for hidden layers. It has become the default activation function for many types of neural networks because a model that uses it is easier to train and often achieves better performance (Jason Brownlee 2019)\n",
    "\n",
    "The SoftMax funtion is a form of logistic regression that normalizes an input value into a vector of alues that follows a probability distribution whose total sums up to 1 (Hamza Mahmood 2018). We will using it for our final layer.\n",
    "\n",
    "#### C3b - Nodes\n",
    "\n",
    "Through trial and error, I have chosen 2000 paramameters or nodes in the first layer as this is slightly lower than the total number of total features in our input variable. On the second layer, I used 25% of the first node which is 500. For the third layer, I chose 10% of the second layer. For the final layer, I chose 2 nodes. \n",
    "\n",
    "#### C3c - Loss Function\n",
    "\n",
    "I have chosen Sparse Categorical Crossentropy for the loss function in our model.\n",
    "\n",
    "#### C3d - Optimizer\n",
    "\n",
    "I have chosen the 'adam' optimizer in our model as it is one of the more popular optimization algorithms used in deep learning.\n",
    "\n",
    "#### C3e - Stop Criteria\n",
    "\n",
    "For our stopping criteria, we will be using Early Stopping. It is a way to stop training as soon as the validation error reaches a minimum (Aurélien Géron, 2019)"
   ]
  },
  {
   "cell_type": "code",
   "execution_count": 24,
   "metadata": {},
   "outputs": [
    {
     "name": "stdout",
     "output_type": "stream",
     "text": [
      "Epoch 1/100\n",
      "8/8 [==============================] - 1s 13ms/step - loss: 1.5336 - accuracy: 0.4896\n",
      "Epoch 2/100\n",
      "8/8 [==============================] - 0s 15ms/step - loss: 0.7979 - accuracy: 0.5049\n",
      "Epoch 3/100\n",
      "8/8 [==============================] - 0s 15ms/step - loss: 0.7364 - accuracy: 0.5144\n",
      "Epoch 4/100\n",
      "8/8 [==============================] - 0s 15ms/step - loss: 0.7295 - accuracy: 0.4874\n",
      "Epoch 5/100\n",
      "8/8 [==============================] - 0s 16ms/step - loss: 0.6939 - accuracy: 0.5342\n",
      "Epoch 6/100\n",
      "8/8 [==============================] - 0s 27ms/step - loss: 0.6802 - accuracy: 0.5473\n",
      "Epoch 7/100\n",
      "8/8 [==============================] - 0s 12ms/step - loss: 0.6980 - accuracy: 0.5033\n",
      "Epoch 8/100\n",
      "8/8 [==============================] - 0s 13ms/step - loss: 0.7045 - accuracy: 0.4730\n",
      "Epoch 9/100\n",
      "8/8 [==============================] - 0s 13ms/step - loss: 0.7080 - accuracy: 0.4882\n",
      "Epoch 10/100\n",
      "8/8 [==============================] - 0s 13ms/step - loss: 0.6873 - accuracy: 0.5362\n",
      "Epoch 11/100\n",
      "8/8 [==============================] - 0s 13ms/step - loss: 0.6899 - accuracy: 0.5659\n",
      "Epoch 12/100\n",
      "8/8 [==============================] - 0s 14ms/step - loss: 0.6921 - accuracy: 0.4909\n",
      "Epoch 13/100\n",
      "8/8 [==============================] - 0s 13ms/step - loss: 0.6980 - accuracy: 0.5548\n",
      "Epoch 14/100\n",
      "8/8 [==============================] - 0s 13ms/step - loss: 0.6895 - accuracy: 0.5706\n",
      "Epoch 15/100\n",
      "8/8 [==============================] - 0s 14ms/step - loss: 0.6912 - accuracy: 0.5639\n",
      "Epoch 16/100\n",
      "8/8 [==============================] - 0s 13ms/step - loss: 0.6867 - accuracy: 0.5404\n",
      "Epoch 17/100\n",
      "8/8 [==============================] - 0s 16ms/step - loss: 0.6840 - accuracy: 0.5605\n",
      "Epoch 18/100\n",
      "8/8 [==============================] - 0s 15ms/step - loss: 0.6811 - accuracy: 0.5678\n",
      "Epoch 19/100\n",
      "8/8 [==============================] - 0s 16ms/step - loss: 0.6686 - accuracy: 0.5881\n",
      "Epoch 20/100\n",
      "8/8 [==============================] - 0s 13ms/step - loss: 0.6752 - accuracy: 0.5742\n",
      "Epoch 21/100\n",
      "8/8 [==============================] - 0s 13ms/step - loss: 0.6641 - accuracy: 0.5768\n",
      "Epoch 22/100\n",
      "8/8 [==============================] - 0s 14ms/step - loss: 0.6666 - accuracy: 0.5710\n",
      "Epoch 23/100\n",
      "8/8 [==============================] - 0s 14ms/step - loss: 0.6384 - accuracy: 0.6507\n",
      "Epoch 24/100\n",
      "8/8 [==============================] - 0s 15ms/step - loss: 0.6451 - accuracy: 0.6148\n",
      "Epoch 25/100\n",
      "8/8 [==============================] - 0s 13ms/step - loss: 0.6230 - accuracy: 0.6502\n",
      "Epoch 26/100\n",
      "8/8 [==============================] - 0s 14ms/step - loss: 0.6226 - accuracy: 0.6522\n",
      "Epoch 27/100\n",
      "8/8 [==============================] - 0s 14ms/step - loss: 0.5903 - accuracy: 0.6887\n",
      "Epoch 28/100\n",
      "8/8 [==============================] - 0s 13ms/step - loss: 0.5993 - accuracy: 0.6806\n",
      "Epoch 29/100\n",
      "8/8 [==============================] - 0s 13ms/step - loss: 0.5888 - accuracy: 0.7069\n",
      "Epoch 30/100\n",
      "8/8 [==============================] - 0s 13ms/step - loss: 0.6126 - accuracy: 0.6594\n",
      "Epoch 31/100\n",
      "8/8 [==============================] - 0s 12ms/step - loss: 0.5765 - accuracy: 0.6845\n",
      "Epoch 32/100\n",
      "8/8 [==============================] - 0s 14ms/step - loss: 0.5429 - accuracy: 0.7381\n",
      "Epoch 33/100\n",
      "8/8 [==============================] - 0s 14ms/step - loss: 0.5024 - accuracy: 0.7685\n",
      "Epoch 34/100\n",
      "8/8 [==============================] - 0s 13ms/step - loss: 0.5057 - accuracy: 0.7617\n",
      "Epoch 35/100\n",
      "8/8 [==============================] - 0s 13ms/step - loss: 0.5330 - accuracy: 0.7146\n",
      "Epoch 36/100\n",
      "8/8 [==============================] - 0s 12ms/step - loss: 0.5156 - accuracy: 0.7536\n",
      "Epoch 37/100\n",
      "8/8 [==============================] - 0s 12ms/step - loss: 0.4930 - accuracy: 0.7523\n",
      "Epoch 38/100\n",
      "8/8 [==============================] - 0s 13ms/step - loss: 0.4860 - accuracy: 0.7579\n",
      "Epoch 39/100\n",
      "8/8 [==============================] - 0s 12ms/step - loss: 0.4570 - accuracy: 0.7908\n",
      "Epoch 40/100\n",
      "8/8 [==============================] - 0s 13ms/step - loss: 0.4569 - accuracy: 0.7762\n",
      "Epoch 41/100\n",
      "8/8 [==============================] - 0s 12ms/step - loss: 0.4574 - accuracy: 0.7729\n",
      "Epoch 42/100\n",
      "8/8 [==============================] - 0s 12ms/step - loss: 0.4798 - accuracy: 0.7803\n",
      "Epoch 43/100\n",
      "8/8 [==============================] - 0s 12ms/step - loss: 0.4843 - accuracy: 0.7591\n",
      "Epoch 44/100\n",
      "8/8 [==============================] - 0s 13ms/step - loss: 0.4718 - accuracy: 0.7730\n",
      "Epoch 45/100\n",
      "8/8 [==============================] - 0s 14ms/step - loss: 0.4744 - accuracy: 0.7728\n",
      "Epoch 46/100\n",
      "8/8 [==============================] - 0s 13ms/step - loss: 0.4655 - accuracy: 0.7683\n",
      "Epoch 47/100\n",
      "8/8 [==============================] - 0s 13ms/step - loss: 0.4479 - accuracy: 0.7635\n",
      "Epoch 48/100\n",
      "8/8 [==============================] - 0s 15ms/step - loss: 0.4274 - accuracy: 0.7932\n",
      "Epoch 49/100\n",
      "8/8 [==============================] - 0s 12ms/step - loss: 0.3965 - accuracy: 0.8137\n",
      "Epoch 50/100\n",
      "8/8 [==============================] - 0s 12ms/step - loss: 0.4100 - accuracy: 0.7834\n",
      "Epoch 51/100\n",
      "8/8 [==============================] - 0s 13ms/step - loss: 0.3910 - accuracy: 0.8147\n",
      "Epoch 52/100\n",
      "8/8 [==============================] - 0s 12ms/step - loss: 0.4081 - accuracy: 0.8089\n",
      "Epoch 53/100\n",
      "8/8 [==============================] - 0s 12ms/step - loss: 0.3912 - accuracy: 0.8140\n",
      "Epoch 54/100\n",
      "8/8 [==============================] - 0s 13ms/step - loss: 0.4254 - accuracy: 0.7955\n",
      "Epoch 55/100\n",
      "8/8 [==============================] - 0s 14ms/step - loss: 0.3949 - accuracy: 0.8195\n",
      "Epoch 56/100\n",
      "8/8 [==============================] - 0s 13ms/step - loss: 0.4191 - accuracy: 0.8169\n",
      "Epoch 57/100\n",
      "8/8 [==============================] - 0s 13ms/step - loss: 0.3512 - accuracy: 0.8554\n",
      "Epoch 58/100\n",
      "8/8 [==============================] - 0s 13ms/step - loss: 0.3731 - accuracy: 0.8232\n",
      "Epoch 59/100\n",
      "8/8 [==============================] - 0s 12ms/step - loss: 0.4065 - accuracy: 0.7979\n",
      "Epoch 60/100\n",
      "8/8 [==============================] - 0s 12ms/step - loss: 0.3764 - accuracy: 0.7996\n",
      "Epoch 61/100\n",
      "8/8 [==============================] - 0s 12ms/step - loss: 0.4093 - accuracy: 0.8105\n",
      "Epoch 62/100\n",
      "8/8 [==============================] - 0s 12ms/step - loss: 0.3808 - accuracy: 0.8391\n",
      "Epoch 63/100\n",
      "8/8 [==============================] - 0s 13ms/step - loss: 0.3822 - accuracy: 0.8126\n",
      "Epoch 64/100\n",
      "8/8 [==============================] - 0s 13ms/step - loss: 0.3399 - accuracy: 0.8331\n",
      "Epoch 65/100\n",
      "8/8 [==============================] - 0s 13ms/step - loss: 0.3381 - accuracy: 0.8467\n",
      "Epoch 66/100\n",
      "8/8 [==============================] - 0s 12ms/step - loss: 0.3754 - accuracy: 0.8206\n",
      "Epoch 67/100\n",
      "8/8 [==============================] - 0s 12ms/step - loss: 0.3652 - accuracy: 0.8285\n",
      "Epoch 68/100\n",
      "8/8 [==============================] - 0s 12ms/step - loss: 0.3833 - accuracy: 0.8245\n",
      "Epoch 69/100\n",
      "8/8 [==============================] - 0s 12ms/step - loss: 0.3354 - accuracy: 0.8446\n",
      "Epoch 70/100\n",
      "8/8 [==============================] - 0s 12ms/step - loss: 0.3546 - accuracy: 0.8277\n",
      "Epoch 71/100\n",
      "8/8 [==============================] - 0s 14ms/step - loss: 0.3303 - accuracy: 0.8416\n",
      "Epoch 72/100\n",
      "8/8 [==============================] - 0s 12ms/step - loss: 0.3574 - accuracy: 0.8269\n",
      "Epoch 73/100\n",
      "8/8 [==============================] - 0s 13ms/step - loss: 0.3233 - accuracy: 0.8369\n",
      "Epoch 74/100\n",
      "8/8 [==============================] - 0s 13ms/step - loss: 0.3630 - accuracy: 0.8356\n",
      "Epoch 75/100\n",
      "8/8 [==============================] - 0s 12ms/step - loss: 0.3741 - accuracy: 0.8202\n",
      "Epoch 76/100\n",
      "8/8 [==============================] - 0s 13ms/step - loss: 0.3689 - accuracy: 0.8197\n",
      "Epoch 77/100\n",
      "8/8 [==============================] - 0s 12ms/step - loss: 0.3539 - accuracy: 0.8438\n",
      "Epoch 78/100\n",
      "8/8 [==============================] - 0s 13ms/step - loss: 0.3290 - accuracy: 0.8251\n",
      "Epoch 79/100\n",
      "8/8 [==============================] - 0s 13ms/step - loss: 0.3148 - accuracy: 0.8331\n",
      "Epoch 80/100\n",
      "8/8 [==============================] - 0s 16ms/step - loss: 0.3263 - accuracy: 0.8545\n",
      "Epoch 81/100\n",
      "8/8 [==============================] - 0s 15ms/step - loss: 0.3448 - accuracy: 0.8315\n",
      "Epoch 82/100\n",
      "8/8 [==============================] - 0s 13ms/step - loss: 0.3462 - accuracy: 0.8224\n",
      "Epoch 83/100\n",
      "8/8 [==============================] - 0s 13ms/step - loss: 0.3188 - accuracy: 0.8490\n",
      "Epoch 84/100\n",
      "8/8 [==============================] - 0s 13ms/step - loss: 0.2985 - accuracy: 0.8518\n",
      "Epoch 85/100\n",
      "8/8 [==============================] - 0s 13ms/step - loss: 0.3276 - accuracy: 0.8413\n",
      "Epoch 86/100\n",
      "8/8 [==============================] - 0s 12ms/step - loss: 0.3535 - accuracy: 0.8368\n",
      "Epoch 87/100\n",
      "8/8 [==============================] - 0s 12ms/step - loss: 0.2956 - accuracy: 0.8640\n",
      "Epoch 88/100\n",
      "8/8 [==============================] - 0s 12ms/step - loss: 0.3541 - accuracy: 0.8402\n",
      "Epoch 89/100\n",
      "8/8 [==============================] - 0s 12ms/step - loss: 0.3225 - accuracy: 0.8385\n",
      "Epoch 90/100\n",
      "8/8 [==============================] - 0s 15ms/step - loss: 0.3426 - accuracy: 0.8301\n",
      "Epoch 91/100\n",
      "8/8 [==============================] - 0s 17ms/step - loss: 0.3108 - accuracy: 0.8566\n",
      "Epoch 92/100\n",
      "8/8 [==============================] - 0s 12ms/step - loss: 0.3525 - accuracy: 0.8327\n",
      "Epoch 93/100\n",
      "8/8 [==============================] - 0s 13ms/step - loss: 0.3144 - accuracy: 0.8391\n",
      "Epoch 94/100\n",
      "8/8 [==============================] - 0s 13ms/step - loss: 0.2915 - accuracy: 0.8567\n",
      "Epoch 95/100\n",
      "8/8 [==============================] - 0s 13ms/step - loss: 0.3361 - accuracy: 0.8522\n",
      "Epoch 96/100\n",
      "8/8 [==============================] - 0s 12ms/step - loss: 0.3157 - accuracy: 0.8565\n",
      "Epoch 97/100\n",
      "8/8 [==============================] - 0s 13ms/step - loss: 0.2984 - accuracy: 0.8598\n",
      "Epoch 98/100\n",
      "8/8 [==============================] - 0s 15ms/step - loss: 0.3057 - accuracy: 0.8708\n",
      "Epoch 99/100\n",
      "8/8 [==============================] - 0s 16ms/step - loss: 0.3454 - accuracy: 0.8507\n",
      "Epoch 100/100\n",
      "8/8 [==============================] - 0s 14ms/step - loss: 0.3570 - accuracy: 0.8475\n"
     ]
    }
   ],
   "source": [
    "history = model.fit(f_train, t_train, batch_size=100, epochs=100) "
   ]
  },
  {
   "cell_type": "code",
   "execution_count": 25,
   "metadata": {},
   "outputs": [
    {
     "name": "stdout",
     "output_type": "stream",
     "text": [
      "Train Loss: 0.20796674489974976 \n",
      "Train Accuracy: 0.9237499833106995\n",
      "Test Loss: 0.9364308714866638 \n",
      "Test Accuracy: 0.5400000214576721\n"
     ]
    }
   ],
   "source": [
    "train_results = model.evaluate(f_train, t_train, verbose = 0)\n",
    "print(f'Train Loss: {train_results[0]} \\nTrain Accuracy: {train_results[1]}')\n",
    "test_results = model.evaluate(f_test, t_test, verbose = 0)\n",
    "print(f'Test Loss: {test_results[0]} \\nTest Accuracy: {test_results[1]}')"
   ]
  },
  {
   "cell_type": "code",
   "execution_count": 26,
   "metadata": {},
   "outputs": [
    {
     "name": "stdout",
     "output_type": "stream",
     "text": [
      "RMSE:  0.1524133757375507\n"
     ]
    }
   ],
   "source": [
    "# Predict and measure RMSE\n",
    "pred = model.predict(f_test)\n",
    "pred = pd.DataFrame(pred)\n",
    "print('RMSE: ' ,mean_squared_error(pred[1],t_test)*(1/2))"
   ]
  },
  {
   "cell_type": "code",
   "execution_count": 27,
   "metadata": {},
   "outputs": [
    {
     "name": "stdout",
     "output_type": "stream",
     "text": [
      "dict_keys(['loss', 'accuracy'])\n"
     ]
    },
    {
     "data": {
      "image/png": "[encoded data removed]",
      "text/plain": [
       "<Figure size 432x288 with 1 Axes>"
      ]
     },
     "metadata": {
      "needs_background": "light"
     },
     "output_type": "display_data"
    },
    {
     "data": {
      "image/png": "[encoded data removed]",
      "text/plain": [
       "<Figure size 432x288 with 1 Axes>"
      ]
     },
     "metadata": {
      "needs_background": "light"
     },
     "output_type": "display_data"
    }
   ],
   "source": [
    "print(history.history.keys())\n",
    "# summarize history for accuracy\n",
    "plt.plot(history.history['accuracy'])\n",
    "plt.title('Model Accuracy')\n",
    "plt.ylabel('Accuracy')\n",
    "plt.xlabel('Epoch')\n",
    "plt.legend(['train', 'test'], loc='upper left')\n",
    "plt.show()\n",
    "\n",
    "# summarize history for loss\n",
    "plt.plot(history.history['loss'])\n",
    "plt.title('Model Loss')\n",
    "plt.ylabel('Loss')\n",
    "plt.xlabel('Epoch')\n",
    "plt.legend(['train', 'test'], loc='upper left')\n",
    "plt.show()"
   ]
  },
  {
   "cell_type": "code",
   "execution_count": 28,
   "metadata": {},
   "outputs": [
    {
     "name": "stdout",
     "output_type": "stream",
     "text": [
      "Epoch 1/20\n",
      "32/32 [==============================] - 2s 48ms/step - loss: 0.3223 - accuracy: 0.8638 - val_loss: 0.3255 - val_accuracy: 0.8687\n",
      "Epoch 2/20\n",
      "32/32 [==============================] - 0s 10ms/step - loss: 0.3829 - accuracy: 0.8270 - val_loss: 0.3811 - val_accuracy: 0.8188\n",
      "Epoch 3/20\n",
      "32/32 [==============================] - 0s 10ms/step - loss: 0.3683 - accuracy: 0.8185 - val_loss: 0.3470 - val_accuracy: 0.8375\n",
      "Epoch 4/20\n",
      "32/32 [==============================] - 0s 9ms/step - loss: 0.3860 - accuracy: 0.8201 - val_loss: 0.4164 - val_accuracy: 0.8000\n",
      "Epoch 5/20\n",
      "32/32 [==============================] - 0s 10ms/step - loss: 0.3798 - accuracy: 0.8134 - val_loss: 0.4041 - val_accuracy: 0.7937\n",
      "Epoch 6/20\n",
      "32/32 [==============================] - 0s 10ms/step - loss: 0.3352 - accuracy: 0.8502 - val_loss: 0.4364 - val_accuracy: 0.7688\n",
      "Epoch 7/20\n",
      "32/32 [==============================] - 0s 9ms/step - loss: 0.4103 - accuracy: 0.7904 - val_loss: 0.4990 - val_accuracy: 0.6812\n",
      "Epoch 8/20\n",
      "32/32 [==============================] - 0s 10ms/step - loss: 0.3226 - accuracy: 0.8315 - val_loss: 0.4861 - val_accuracy: 0.7437\n",
      "Epoch 9/20\n",
      "32/32 [==============================] - 0s 10ms/step - loss: 0.3597 - accuracy: 0.8342 - val_loss: 0.5960 - val_accuracy: 0.7063\n",
      "Epoch 10/20\n",
      "32/32 [==============================] - 0s 9ms/step - loss: 0.3869 - accuracy: 0.8288 - val_loss: 0.5312 - val_accuracy: 0.7500\n",
      "Epoch 11/20\n",
      "32/32 [==============================] - 0s 10ms/step - loss: 0.3658 - accuracy: 0.8258 - val_loss: 0.5697 - val_accuracy: 0.7188\n",
      "Epoch 12/20\n",
      "32/32 [==============================] - 0s 10ms/step - loss: 0.3188 - accuracy: 0.8534 - val_loss: 0.5205 - val_accuracy: 0.7125\n",
      "Epoch 13/20\n",
      "32/32 [==============================] - 0s 9ms/step - loss: 0.3429 - accuracy: 0.8504 - val_loss: 0.5193 - val_accuracy: 0.7375\n",
      "Epoch 14/20\n",
      "32/32 [==============================] - 0s 10ms/step - loss: 0.4052 - accuracy: 0.7811 - val_loss: 0.5434 - val_accuracy: 0.7063\n"
     ]
    }
   ],
   "source": [
    "early_stop = EarlyStopping(patience=5, mode='max')\n",
    "model.compile(optimizer='adam', loss='sparse_categorical_crossentropy', metrics=['accuracy'])\n",
    "history = model.fit(f_train, t_train,batch_size = 20, epochs=20, callbacks=[early_stop], validation_split=0.2)"
   ]
  },
  {
   "cell_type": "code",
   "execution_count": 29,
   "metadata": {},
   "outputs": [
    {
     "name": "stdout",
     "output_type": "stream",
     "text": [
      "Model: \"sequential\"\n",
      "_________________________________________________________________\n",
      "Layer (type)                 Output Shape              Param #   \n",
      "=================================================================\n",
      "dense (Dense)                (None, 2000)              72000     \n",
      "_________________________________________________________________\n",
      "dropout (Dropout)            (None, 2000)              0         \n",
      "_________________________________________________________________\n",
      "dense_1 (Dense)              (None, 500)               1000500   \n",
      "_________________________________________________________________\n",
      "dropout_1 (Dropout)          (None, 500)               0         \n",
      "_________________________________________________________________\n",
      "dense_2 (Dense)              (None, 50)                25050     \n",
      "_________________________________________________________________\n",
      "dense_3 (Dense)              (None, 2)                 102       \n",
      "=================================================================\n",
      "Total params: 1,097,652\n",
      "Trainable params: 1,097,652\n",
      "Non-trainable params: 0\n",
      "_________________________________________________________________\n"
     ]
    }
   ],
   "source": [
    "model.summary()"
   ]
  },
  {
   "cell_type": "markdown",
   "metadata": {},
   "source": [
    "#### C3f - Evaluation Metric\n",
    "\n",
    "We will be using Loss, Accuracy, and Root Mean Squared Error as our evaluation metrics. The training accuracy is 88.38% and the test accuracy is 56%"
   ]
  },
  {
   "cell_type": "code",
   "execution_count": 30,
   "metadata": {
    "scrolled": false
   },
   "outputs": [
    {
     "name": "stdout",
     "output_type": "stream",
     "text": [
      "Train Loss: 0.293621301651001 \n",
      "Train Accuracy: 0.8837500214576721\n",
      "Test Loss: 0.9195660948753357 \n",
      "Test Accuracy: 0.5600000023841858\n"
     ]
    }
   ],
   "source": [
    "train_results = model.evaluate(f_train, t_train, verbose = 0)\n",
    "print(f'Train Loss: {train_results[0]} \\nTrain Accuracy: {train_results[1]}')\n",
    "test_results = model.evaluate(f_test, t_test, verbose = 0)\n",
    "print(f'Test Loss: {test_results[0]} \\nTest Accuracy: {test_results[1]}')"
   ]
  },
  {
   "cell_type": "code",
   "execution_count": 31,
   "metadata": {},
   "outputs": [
    {
     "name": "stdout",
     "output_type": "stream",
     "text": [
      "RMSE:  0.14868170999171842\n"
     ]
    }
   ],
   "source": [
    "# Predict and measure RMSE\n",
    "pred = model.predict(f_test)\n",
    "pred = pd.DataFrame(pred)\n",
    "print('RMSE: ' ,mean_squared_error(pred[1],t_test)*(1/2))"
   ]
  },
  {
   "cell_type": "markdown",
   "metadata": {},
   "source": [
    "# Model Evaluation\n",
    "\n",
    "### D1 - Stopping Criteria Used\n",
    "\n",
    "We have used early stopping criteria with a mode arugument as 'max' to stop when the value being monitored stopped increasing together with a patience argument of '3' to stop when there is no improvement for the next 3 epochs.\n",
    "\n",
    "### D2 - Visualization"
   ]
  },
  {
   "cell_type": "code",
   "execution_count": 32,
   "metadata": {},
   "outputs": [
    {
     "name": "stdout",
     "output_type": "stream",
     "text": [
      "dict_keys(['loss', 'accuracy', 'val_loss', 'val_accuracy'])\n"
     ]
    },
    {
     "data": {
      "image/png": "[encoded data removed]",
      "text/plain": [
       "<Figure size 432x288 with 1 Axes>"
      ]
     },
     "metadata": {
      "needs_background": "light"
     },
     "output_type": "display_data"
    },
    {
     "data": {
      "image/png": "[encoded data removed]",
      "text/plain": [
       "<Figure size 432x288 with 1 Axes>"
      ]
     },
     "metadata": {
      "needs_background": "light"
     },
     "output_type": "display_data"
    }
   ],
   "source": [
    "print(history.history.keys())\n",
    "# summarize history for accuracy\n",
    "plt.plot(history.history['accuracy'])\n",
    "plt.plot(history.history['val_accuracy'])\n",
    "plt.title('Model Accuracy')\n",
    "plt.ylabel('Accuracy')\n",
    "plt.xlabel('Epoch')\n",
    "plt.legend(['train', 'validation'], loc='lower left')\n",
    "plt.show()\n",
    "\n",
    "# summarize history for loss\n",
    "plt.plot(history.history['loss'])\n",
    "plt.plot(history.history['val_loss'])\n",
    "plt.title('Model Loss')\n",
    "plt.ylabel('Loss')\n",
    "plt.xlabel('Epoch')\n",
    "plt.legend(['train', 'validation'], loc='upper left')\n",
    "plt.show()"
   ]
  },
  {
   "cell_type": "markdown",
   "metadata": {},
   "source": [
    "### D3 - Assesment\n",
    "\n",
    "The model clearly shows that it is overfitting even when adding dropout layers to decrease it. The accuracy between the training dataset and test dataset is a difference of around 30%. Number of layers, type of functions, number of epochs have been tested to try to minimize overfitting. Since all these steps have been unsuccessful at increase test accuracy, the next thing that could be done is to aqcuire more training data.\n",
    "\n",
    "### D4 - Predictive Accuracy\n",
    "\n",
    "The training accuracy is 88.38% and the test accuracy is 56%. Below are the calculations of the accuracies.\n",
    "Below also shows a sample of 3 reviews with their actual and predicted results."
   ]
  },
  {
   "cell_type": "code",
   "execution_count": 33,
   "metadata": {},
   "outputs": [
    {
     "name": "stdout",
     "output_type": "stream",
     "text": [
      "Train Loss: 0.293621301651001 \n",
      "Train Accuracy: 0.8837500214576721\n",
      "Test Loss: 0.9195660948753357 \n",
      "Test Accuracy: 0.5600000023841858\n"
     ]
    }
   ],
   "source": [
    "train_results = model.evaluate(f_train, t_train, verbose = 0)\n",
    "print(f'Train Loss: {train_results[0]} \\nTrain Accuracy: {train_results[1]}')\n",
    "test_results = model.evaluate(f_test, t_test, verbose = 0)\n",
    "print(f'Test Loss: {test_results[0]} \\nTest Accuracy: {test_results[1]}')"
   ]
  },
  {
   "cell_type": "code",
   "execution_count": 34,
   "metadata": {},
   "outputs": [
    {
     "name": "stdout",
     "output_type": "stream",
     "text": [
      "Predicted:  Negative review\n",
      "Actual:  Positive review\n",
      "Predicted:  Positive review\n",
      "Actual:  Positive review\n",
      "Predicted:  Positive review\n",
      "Actual:  Positive review\n"
     ]
    }
   ],
   "source": [
    "prediction = model.predict(padded_data)\n",
    "i = 15\n",
    "print('Predicted: ', 'Negative' if prediction[i][0] >=0.5 else 'Positive', 'review')\n",
    "print('Actual: ', 'Negative' if padded_data[i][1] == 0 else 'Positive', 'review')\n",
    "\n",
    "i = 67\n",
    "print('Predicted: ', 'Negative' if prediction[i][0] >=0.5 else 'Positive', 'review')\n",
    "print('Actual: ', 'Negative' if padded_data[i][1] == 0 else 'Positive', 'review')\n",
    "\n",
    "i = 99\n",
    "print('Predicted: ', 'Negative' if prediction[i][0] >=0.5 else 'Positive', 'review')\n",
    "print('Actual: ', 'Negative' if padded_data[i][1] == 0 else 'Positive', 'review')"
   ]
  },
  {
   "cell_type": "markdown",
   "metadata": {},
   "source": [
    "# Summary and Recommendation\n",
    "\n",
    "The goal of this analysis is to accurately predict the Ratings of Yelp Reviews. Although our model has run smoothly, the accuracy of our test set is low. This indicates the model is overfitting. More training data must be used to try to decrease overfitting and increase the accuracy of the model. Once more data has been aqcuired, the model can be used again without running the entire code. The model has been saved to the file Yelp_Sentimental_Analysis.h5.  "
   ]
  },
  {
   "cell_type": "code",
   "execution_count": 35,
   "metadata": {},
   "outputs": [],
   "source": [
    "model.save('Yelp_Sentimental_Analysis.h5')"
   ]
  },
  {
   "cell_type": "markdown",
   "metadata": {},
   "source": [
    "### References\n",
    "\n",
    "* Nitin Hardeniya (2016) - Natural Language Processing: Python and NLTK. Packt Publishing; Retrieved from: https://search.ebscohost.com/login.aspx?direct=true&db=nlebk&AN=1426890&site=eds-live&scope=site\n",
    "*  Mehreen Saeed (2021) - A Gentle Introduction To Sigmoid Function. Retrieved from: https://machinelearningmastery.com/a-gentle-introduction-to-sigmoid-function/\n",
    "* Jason Brownlee (2019) - A Gentle Introduction to the Rectified Linear Unit (ReLU). Retrieved from: https://machinelearningmastery.com/rectified-linear-activation-function-for-deep-learning-neural-networks/\n",
    "* Hamza Mahmood (2019) - The Softmax Function, Simplified. Retrieved from: https://towardsdatascience.com/softmax-function-simplified-714068bf8156\n",
    "* Aurélien Géron (2019) - Hands-on Machine Learning with Scikit-Learn, Keras, and TensorFlow : concepts, tools, and techniques to build intelligent systems (Second edition.). O’Reilly.\n",
    "\n",
    "### Third Party Code\n",
    "\n",
    "* https://devenum.com/how-to-convert-text-file-into-pandas-dataframe/\n",
    "* https://www.tensorflow.org/guide/keras/sequential_model\n",
    "* https://keras.io/api/callbacks/early_stopping/\n",
    "* https://www.tensorflow.org/tutorials/keras/overfit_and_underfit\n"
   ]
  }
 ],
 "metadata": {
  "kernelspec": {
   "display_name": "Python 3",
   "language": "python",
   "name": "python3"
  },
  "language_info": {
   "codemirror_mode": {
    "name": "ipython",
    "version": 3
   },
   "file_extension": ".py",
   "mimetype": "text/x-python",
   "name": "python",
   "nbconvert_exporter": "python",
   "pygments_lexer": "ipython3",
   "version": "3.8.3"
  }
 },
 "nbformat": 4,
 "nbformat_minor": 4
}
